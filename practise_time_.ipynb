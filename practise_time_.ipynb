{
  "nbformat": 4,
  "nbformat_minor": 0,
  "metadata": {
    "colab": {
      "provenance": []
    },
    "kernelspec": {
      "name": "python3",
      "display_name": "Python 3"
    },
    "language_info": {
      "name": "python"
    }
  },
  "cells": [
    {
      "cell_type": "code",
      "execution_count": 2,
      "metadata": {
        "id": "JW7aqZsP-juW"
      },
      "outputs": [],
      "source": [
        "from pyspark.sql import SparkSession\n",
        "spark = SparkSession.builder.appName('MySecondPySpark').getOrCreate()"
      ]
    },
    {
      "cell_type": "code",
      "source": [
        "students_data = [\n",
        "    (\"John\", \"Math\", 85),\n",
        "    (\"John\", \"Science\", 90),\n",
        "    (\"Emily\", \"Math\", 92),\n",
        "    (\"Emily\", \"Science\", 88),\n",
        "    (\"Mike\", \"Math\", 78),\n",
        "    (\"Mike\", \"Science\", 85)\n",
        "]\n",
        "students_df = spark.createDataFrame(students_data, [\"Name\", \"Subject\", \"Score\"])"
      ],
      "metadata": {
        "id": "ZZ7YiS_REUVU"
      },
      "execution_count": 3,
      "outputs": []
    },
    {
      "cell_type": "code",
      "source": [
        "students_df.show()"
      ],
      "metadata": {
        "colab": {
          "base_uri": "https://localhost:8080/"
        },
        "id": "-40MJeOJEUP0",
        "outputId": "22ecb9f3-9ccf-4f47-ac13-2cd882b00aeb"
      },
      "execution_count": 4,
      "outputs": [
        {
          "output_type": "stream",
          "name": "stdout",
          "text": [
            "+-----+-------+-----+\n",
            "| Name|Subject|Score|\n",
            "+-----+-------+-----+\n",
            "| John|   Math|   85|\n",
            "| John|Science|   90|\n",
            "|Emily|   Math|   92|\n",
            "|Emily|Science|   88|\n",
            "| Mike|   Math|   78|\n",
            "| Mike|Science|   85|\n",
            "+-----+-------+-----+\n",
            "\n"
          ]
        }
      ]
    },
    {
      "cell_type": "code",
      "source": [
        "### Find all students who scored more than 85 in any subject\n",
        "students_df.filter(students_df['Score'] > 85).show()\n",
        "# For more than or equal to 85\n",
        "students_df.filter(students_df['Score'] >= 85).show()"
      ],
      "metadata": {
        "colab": {
          "base_uri": "https://localhost:8080/"
        },
        "id": "MLYQSsSYEUNt",
        "outputId": "63525e1c-734c-40c2-95fe-ef842ceb2a59"
      },
      "execution_count": 5,
      "outputs": [
        {
          "output_type": "stream",
          "name": "stdout",
          "text": [
            "+-----+-------+-----+\n",
            "| Name|Subject|Score|\n",
            "+-----+-------+-----+\n",
            "| John|Science|   90|\n",
            "|Emily|   Math|   92|\n",
            "|Emily|Science|   88|\n",
            "+-----+-------+-----+\n",
            "\n",
            "+-----+-------+-----+\n",
            "| Name|Subject|Score|\n",
            "+-----+-------+-----+\n",
            "| John|   Math|   85|\n",
            "| John|Science|   90|\n",
            "|Emily|   Math|   92|\n",
            "|Emily|Science|   88|\n",
            "| Mike|Science|   85|\n",
            "+-----+-------+-----+\n",
            "\n"
          ]
        }
      ]
    },
    {
      "cell_type": "code",
      "source": [
        "# 2. Calculate the average score for each subject\n",
        "from pyspark.sql.functions import avg\n",
        "students_df.groupBy(\"Subject\").agg(avg(\"Score\").alias(\"Average_Score\")).show()"
      ],
      "metadata": {
        "colab": {
          "base_uri": "https://localhost:8080/"
        },
        "id": "wqS1rlXQEULR",
        "outputId": "f4b00d63-e53f-4537-8386-bf075b6861f0"
      },
      "execution_count": 7,
      "outputs": [
        {
          "output_type": "stream",
          "name": "stdout",
          "text": [
            "+-------+-----------------+\n",
            "|Subject|    Average_Score|\n",
            "+-------+-----------------+\n",
            "|Science|87.66666666666667|\n",
            "|   Math|             85.0|\n",
            "+-------+-----------------+\n",
            "\n"
          ]
        }
      ]
    },
    {
      "cell_type": "code",
      "source": [
        "# 3. Find which student has the highest total score across all subjects\n",
        "from pyspark.sql.functions import sum\n",
        "print(\"\\nStudent with the highest total score:\")\n",
        "students_df.groupBy(\"Name\").agg(sum(\"Score\").alias(\"Total_Score\")) \\\n",
        " .orderBy(\"Total_Score\", ascending=False) \\\n",
        " .limit(1).show()"
      ],
      "metadata": {
        "colab": {
          "base_uri": "https://localhost:8080/"
        },
        "id": "Ty74HadAEUI2",
        "outputId": "04b20b9e-30a4-420b-a0d4-8ad0e01baddf"
      },
      "execution_count": 11,
      "outputs": [
        {
          "output_type": "stream",
          "name": "stdout",
          "text": [
            "\n",
            "Student with the highest total score:\n",
            "+-----+-----------+\n",
            "| Name|Total_Score|\n",
            "+-----+-----------+\n",
            "|Emily|        180|\n",
            "+-----+-----------+\n",
            "\n"
          ]
        }
      ]
    },
    {
      "cell_type": "code",
      "source": [
        "from pyspark.sql import SparkSession\n",
        "from pyspark.sql.functions import avg, sum, when\n",
        "# 4. Add a column \"Grade\" with:\n",
        "#    - \"A\" if Score >= 90\n",
        "#    - \"B\" if 80 <= Score < 90\n",
        "#    - \"C\" if Score < 80\n",
        "print(\"\\nStudents with Grade column: \")\n",
        "students_df = students_df.withColumn(\n",
        "    \"Grade\",\n",
        "    when(students_df['Score'] >= 90, \"A\")\n",
        "    .when((students_df['Score'] >= 80) & (students_df['Score'] < 90), \"B\")\n",
        "    .otherwise(\"C\")\n",
        ")\n",
        "students_df.show()"
      ],
      "metadata": {
        "colab": {
          "base_uri": "https://localhost:8080/"
        },
        "id": "sqLedNi6EUGt",
        "outputId": "96e89d55-bea2-49cb-d1f9-e6179ee86648"
      },
      "execution_count": 14,
      "outputs": [
        {
          "output_type": "stream",
          "name": "stdout",
          "text": [
            "\n",
            "Students with Grade column: \n",
            "+-----+-------+-----+-----+\n",
            "| Name|Subject|Score|Grade|\n",
            "+-----+-------+-----+-----+\n",
            "| John|   Math|   85|    B|\n",
            "| John|Science|   90|    A|\n",
            "|Emily|   Math|   92|    A|\n",
            "|Emily|Science|   88|    B|\n",
            "| Mike|   Math|   78|    C|\n",
            "| Mike|Science|   85|    B|\n",
            "+-----+-------+-----+-----+\n",
            "\n"
          ]
        }
      ]
    },
    {
      "cell_type": "code",
      "source": [],
      "metadata": {
        "id": "K-nE-079uHut"
      },
      "execution_count": null,
      "outputs": []
    },
    {
      "cell_type": "code",
      "source": [],
      "metadata": {
        "id": "r9PZKgr7uHrG"
      },
      "execution_count": null,
      "outputs": []
    },
    {
      "cell_type": "code",
      "source": [],
      "metadata": {
        "id": "4O2__pw3uHog"
      },
      "execution_count": null,
      "outputs": []
    },
    {
      "cell_type": "code",
      "source": [],
      "metadata": {
        "id": "H8wS2IQcuHmH"
      },
      "execution_count": null,
      "outputs": []
    },
    {
      "cell_type": "code",
      "source": [],
      "metadata": {
        "id": "CozLhHi_uHjk"
      },
      "execution_count": null,
      "outputs": []
    },
    {
      "cell_type": "code",
      "source": [],
      "metadata": {
        "id": "AtKPpwqYuHgu"
      },
      "execution_count": null,
      "outputs": []
    },
    {
      "cell_type": "code",
      "source": [],
      "metadata": {
        "id": "_i_fFx3LuHed"
      },
      "execution_count": null,
      "outputs": []
    },
    {
      "cell_type": "code",
      "source": [],
      "metadata": {
        "id": "qCe5yGlsuHbv"
      },
      "execution_count": null,
      "outputs": []
    }
  ]
}