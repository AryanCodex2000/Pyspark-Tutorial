{
  "cells": [
    {
      "cell_type": "code",
      "execution_count": null,
      "metadata": {
        "colab": {
          "base_uri": "https://localhost:8080/"
        },
        "id": "ukO_J8bSgKSJ",
        "outputId": "2f82bd42-1177-4474-c871-6ea4d56ede6c"
      },
      "outputs": [
        {
          "output_type": "stream",
          "name": "stdout",
          "text": [
            "Requirement already satisfied: pyspark in /usr/local/lib/python3.11/dist-packages (3.5.1)\n",
            "Requirement already satisfied: py4j==0.10.9.7 in /usr/local/lib/python3.11/dist-packages (from pyspark) (0.10.9.7)\n"
          ]
        }
      ],
      "source": [
        "!pip install pyspark"
      ]
    },
    {
      "cell_type": "code",
      "execution_count": null,
      "metadata": {
        "colab": {
          "base_uri": "https://localhost:8080/",
          "height": 204
        },
        "id": "CIirwAROgPMc",
        "outputId": "ed2a1d72-5bf5-4ea5-b0e9-70a702c2ae47"
      },
      "outputs": [
        {
          "output_type": "execute_result",
          "data": {
            "text/plain": [
              "pandas.core.frame.DataFrame"
            ],
            "text/html": [
              "<div style=\"max-width:800px; border: 1px solid var(--colab-border-color);\"><style>\n",
              "      pre.function-repr-contents {\n",
              "        overflow-x: auto;\n",
              "        padding: 8px 12px;\n",
              "        max-height: 500px;\n",
              "      }\n",
              "\n",
              "      pre.function-repr-contents.function-repr-contents-collapsed {\n",
              "        cursor: pointer;\n",
              "        max-height: 100px;\n",
              "      }\n",
              "    </style>\n",
              "    <pre style=\"white-space: initial; background:\n",
              "         var(--colab-secondary-surface-color); padding: 8px 12px;\n",
              "         border-bottom: 1px solid var(--colab-border-color);\"><b>pandas.core.frame.DataFrame</b><br/>def __init__(data=None, index: Axes | None=None, columns: Axes | None=None, dtype: Dtype | None=None, copy: bool | None=None) -&gt; None</pre><pre class=\"function-repr-contents function-repr-contents-collapsed\" style=\"\"><a class=\"filepath\" style=\"display:none\" href=\"#\">/usr/local/lib/python3.11/dist-packages/pandas/core/frame.py</a>Two-dimensional, size-mutable, potentially heterogeneous tabular data.\n",
              "\n",
              "Data structure also contains labeled axes (rows and columns).\n",
              "Arithmetic operations align on both row and column labels. Can be\n",
              "thought of as a dict-like container for Series objects. The primary\n",
              "pandas data structure.\n",
              "\n",
              "Parameters\n",
              "----------\n",
              "data : ndarray (structured or homogeneous), Iterable, dict, or DataFrame\n",
              "    Dict can contain Series, arrays, constants, dataclass or list-like objects. If\n",
              "    data is a dict, column order follows insertion-order. If a dict contains Series\n",
              "    which have an index defined, it is aligned by its index. This alignment also\n",
              "    occurs if data is a Series or a DataFrame itself. Alignment is done on\n",
              "    Series/DataFrame inputs.\n",
              "\n",
              "    If data is a list of dicts, column order follows insertion-order.\n",
              "\n",
              "index : Index or array-like\n",
              "    Index to use for resulting frame. Will default to RangeIndex if\n",
              "    no indexing information part of input data and no index provided.\n",
              "columns : Index or array-like\n",
              "    Column labels to use for resulting frame when data does not have them,\n",
              "    defaulting to RangeIndex(0, 1, 2, ..., n). If data contains column labels,\n",
              "    will perform column selection instead.\n",
              "dtype : dtype, default None\n",
              "    Data type to force. Only a single dtype is allowed. If None, infer.\n",
              "copy : bool or None, default None\n",
              "    Copy data from inputs.\n",
              "    For dict data, the default of None behaves like ``copy=True``.  For DataFrame\n",
              "    or 2d ndarray input, the default of None behaves like ``copy=False``.\n",
              "    If data is a dict containing one or more Series (possibly of different dtypes),\n",
              "    ``copy=False`` will ensure that these inputs are not copied.\n",
              "\n",
              "    .. versionchanged:: 1.3.0\n",
              "\n",
              "See Also\n",
              "--------\n",
              "DataFrame.from_records : Constructor from tuples, also record arrays.\n",
              "DataFrame.from_dict : From dicts of Series, arrays, or dicts.\n",
              "read_csv : Read a comma-separated values (csv) file into DataFrame.\n",
              "read_table : Read general delimited file into DataFrame.\n",
              "read_clipboard : Read text from clipboard into DataFrame.\n",
              "\n",
              "Notes\n",
              "-----\n",
              "Please reference the :ref:`User Guide &lt;basics.dataframe&gt;` for more information.\n",
              "\n",
              "Examples\n",
              "--------\n",
              "Constructing DataFrame from a dictionary.\n",
              "\n",
              "&gt;&gt;&gt; d = {&#x27;col1&#x27;: [1, 2], &#x27;col2&#x27;: [3, 4]}\n",
              "&gt;&gt;&gt; df = pd.DataFrame(data=d)\n",
              "&gt;&gt;&gt; df\n",
              "   col1  col2\n",
              "0     1     3\n",
              "1     2     4\n",
              "\n",
              "Notice that the inferred dtype is int64.\n",
              "\n",
              "&gt;&gt;&gt; df.dtypes\n",
              "col1    int64\n",
              "col2    int64\n",
              "dtype: object\n",
              "\n",
              "To enforce a single dtype:\n",
              "\n",
              "&gt;&gt;&gt; df = pd.DataFrame(data=d, dtype=np.int8)\n",
              "&gt;&gt;&gt; df.dtypes\n",
              "col1    int8\n",
              "col2    int8\n",
              "dtype: object\n",
              "\n",
              "Constructing DataFrame from a dictionary including Series:\n",
              "\n",
              "&gt;&gt;&gt; d = {&#x27;col1&#x27;: [0, 1, 2, 3], &#x27;col2&#x27;: pd.Series([2, 3], index=[2, 3])}\n",
              "&gt;&gt;&gt; pd.DataFrame(data=d, index=[0, 1, 2, 3])\n",
              "   col1  col2\n",
              "0     0   NaN\n",
              "1     1   NaN\n",
              "2     2   2.0\n",
              "3     3   3.0\n",
              "\n",
              "Constructing DataFrame from numpy ndarray:\n",
              "\n",
              "&gt;&gt;&gt; df2 = pd.DataFrame(np.array([[1, 2, 3], [4, 5, 6], [7, 8, 9]]),\n",
              "...                    columns=[&#x27;a&#x27;, &#x27;b&#x27;, &#x27;c&#x27;])\n",
              "&gt;&gt;&gt; df2\n",
              "   a  b  c\n",
              "0  1  2  3\n",
              "1  4  5  6\n",
              "2  7  8  9\n",
              "\n",
              "Constructing DataFrame from a numpy ndarray that has labeled columns:\n",
              "\n",
              "&gt;&gt;&gt; data = np.array([(1, 2, 3), (4, 5, 6), (7, 8, 9)],\n",
              "...                 dtype=[(&quot;a&quot;, &quot;i4&quot;), (&quot;b&quot;, &quot;i4&quot;), (&quot;c&quot;, &quot;i4&quot;)])\n",
              "&gt;&gt;&gt; df3 = pd.DataFrame(data, columns=[&#x27;c&#x27;, &#x27;a&#x27;])\n",
              "...\n",
              "&gt;&gt;&gt; df3\n",
              "   c  a\n",
              "0  3  1\n",
              "1  6  4\n",
              "2  9  7\n",
              "\n",
              "Constructing DataFrame from dataclass:\n",
              "\n",
              "&gt;&gt;&gt; from dataclasses import make_dataclass\n",
              "&gt;&gt;&gt; Point = make_dataclass(&quot;Point&quot;, [(&quot;x&quot;, int), (&quot;y&quot;, int)])\n",
              "&gt;&gt;&gt; pd.DataFrame([Point(0, 0), Point(0, 3), Point(2, 3)])\n",
              "   x  y\n",
              "0  0  0\n",
              "1  0  3\n",
              "2  2  3\n",
              "\n",
              "Constructing DataFrame from Series/DataFrame:\n",
              "\n",
              "&gt;&gt;&gt; ser = pd.Series([1, 2, 3], index=[&quot;a&quot;, &quot;b&quot;, &quot;c&quot;])\n",
              "&gt;&gt;&gt; df = pd.DataFrame(data=ser, index=[&quot;a&quot;, &quot;c&quot;])\n",
              "&gt;&gt;&gt; df\n",
              "   0\n",
              "a  1\n",
              "c  3\n",
              "\n",
              "&gt;&gt;&gt; df1 = pd.DataFrame([1, 2, 3], index=[&quot;a&quot;, &quot;b&quot;, &quot;c&quot;], columns=[&quot;x&quot;])\n",
              "&gt;&gt;&gt; df2 = pd.DataFrame(data=df1, index=[&quot;a&quot;, &quot;c&quot;])\n",
              "&gt;&gt;&gt; df2\n",
              "   x\n",
              "a  1\n",
              "c  3</pre>\n",
              "      <script>\n",
              "      if (google.colab.kernel.accessAllowed && google.colab.files && google.colab.files.view) {\n",
              "        for (const element of document.querySelectorAll('.filepath')) {\n",
              "          element.style.display = 'block'\n",
              "          element.onclick = (event) => {\n",
              "            event.preventDefault();\n",
              "            event.stopPropagation();\n",
              "            google.colab.files.view(element.textContent, 509);\n",
              "          };\n",
              "        }\n",
              "      }\n",
              "      for (const element of document.querySelectorAll('.function-repr-contents')) {\n",
              "        element.onclick = (event) => {\n",
              "          event.preventDefault();\n",
              "          event.stopPropagation();\n",
              "          element.classList.toggle('function-repr-contents-collapsed');\n",
              "        };\n",
              "      }\n",
              "      </script>\n",
              "      </div>"
            ]
          },
          "metadata": {},
          "execution_count": 2
        }
      ],
      "source": [
        "import pyspark\n",
        "\n",
        "import pandas as pd\n",
        "pd.read_csv('Book1.csv')\n",
        "type(pd.read_csv('Book1.csv'))"
      ]
    },
    {
      "cell_type": "code",
      "execution_count": null,
      "metadata": {
        "id": "BWs5kJJOgPO9"
      },
      "outputs": [],
      "source": [
        "from pyspark.sql import SparkSession\n"
      ]
    },
    {
      "cell_type": "code",
      "execution_count": null,
      "metadata": {
        "id": "gux2rphUgPRC"
      },
      "outputs": [],
      "source": [
        "spark = SparkSession.builder.appName('Practise').getOrCreate()"
      ]
    },
    {
      "cell_type": "code",
      "execution_count": null,
      "metadata": {
        "colab": {
          "base_uri": "https://localhost:8080/",
          "height": 219
        },
        "id": "g19tnSmLgPUd",
        "outputId": "e513fd8e-a191-41b1-e6ff-81389d2f5511"
      },
      "outputs": [
        {
          "output_type": "execute_result",
          "data": {
            "text/plain": [
              "<pyspark.sql.session.SparkSession at 0x78b3e31ec950>"
            ],
            "text/html": [
              "\n",
              "            <div>\n",
              "                <p><b>SparkSession - in-memory</b></p>\n",
              "                \n",
              "        <div>\n",
              "            <p><b>SparkContext</b></p>\n",
              "\n",
              "            <p><a href=\"http://459f8d13f399:4040\">Spark UI</a></p>\n",
              "\n",
              "            <dl>\n",
              "              <dt>Version</dt>\n",
              "                <dd><code>v3.5.1</code></dd>\n",
              "              <dt>Master</dt>\n",
              "                <dd><code>local[*]</code></dd>\n",
              "              <dt>AppName</dt>\n",
              "                <dd><code>Practise</code></dd>\n",
              "            </dl>\n",
              "        </div>\n",
              "        \n",
              "            </div>\n",
              "        "
            ]
          },
          "metadata": {},
          "execution_count": 5
        }
      ],
      "source": [
        "spark"
      ]
    },
    {
      "cell_type": "code",
      "execution_count": null,
      "metadata": {
        "id": "4CQKawGqgjru"
      },
      "outputs": [],
      "source": [
        "df_pyspark=spark.read.csv('Book1.csv')"
      ]
    },
    {
      "cell_type": "code",
      "execution_count": null,
      "metadata": {
        "colab": {
          "base_uri": "https://localhost:8080/"
        },
        "id": "AsWiTNaEgjuM",
        "outputId": "860f0397-ef16-4b0e-fe43-dca197b19ec7"
      },
      "outputs": [
        {
          "output_type": "stream",
          "name": "stdout",
          "text": [
            "+-------+---+\n",
            "|    _c0|_c1|\n",
            "+-------+---+\n",
            "|  Name |Age|\n",
            "|  Aryan| 24|\n",
            "|  Sahil| 23|\n",
            "|   Betu| 22|\n",
            "|   Ishu| 32|\n",
            "|Krishna| 23|\n",
            "|   Golu| 43|\n",
            "|   Bhim| 22|\n",
            "+-------+---+\n",
            "\n"
          ]
        }
      ],
      "source": [
        "df_pyspark.show()"
      ]
    },
    {
      "cell_type": "code",
      "execution_count": null,
      "metadata": {
        "id": "j80g3kVVgjwc"
      },
      "outputs": [],
      "source": [
        "df_pyspark=spark.read.option('header', 'true').csv('Book1.csv')"
      ]
    },
    {
      "cell_type": "code",
      "execution_count": null,
      "metadata": {
        "colab": {
          "base_uri": "https://localhost:8080/",
          "height": 187
        },
        "id": "bwtfPDbHgjy-",
        "outputId": "7a026da8-93a1-42e0-e811-b29a6b17cd78"
      },
      "outputs": [
        {
          "output_type": "execute_result",
          "data": {
            "text/plain": [
              "pyspark.sql.dataframe.DataFrame"
            ],
            "text/html": [
              "<div style=\"max-width:800px; border: 1px solid var(--colab-border-color);\"><style>\n",
              "      pre.function-repr-contents {\n",
              "        overflow-x: auto;\n",
              "        padding: 8px 12px;\n",
              "        max-height: 500px;\n",
              "      }\n",
              "\n",
              "      pre.function-repr-contents.function-repr-contents-collapsed {\n",
              "        cursor: pointer;\n",
              "        max-height: 100px;\n",
              "      }\n",
              "    </style>\n",
              "    <pre style=\"white-space: initial; background:\n",
              "         var(--colab-secondary-surface-color); padding: 8px 12px;\n",
              "         border-bottom: 1px solid var(--colab-border-color);\"><b>pyspark.sql.dataframe.DataFrame</b><br/>def __init__(jdf: JavaObject, sql_ctx: Union[&#x27;SQLContext&#x27;, &#x27;SparkSession&#x27;])</pre><pre class=\"function-repr-contents function-repr-contents-collapsed\" style=\"\"><a class=\"filepath\" style=\"display:none\" href=\"#\">/usr/local/lib/python3.11/dist-packages/pyspark/sql/dataframe.py</a>A distributed collection of data grouped into named columns.\n",
              "\n",
              ".. versionadded:: 1.3.0\n",
              "\n",
              ".. versionchanged:: 3.4.0\n",
              "    Supports Spark Connect.\n",
              "\n",
              "Examples\n",
              "--------\n",
              "A :class:`DataFrame` is equivalent to a relational table in Spark SQL,\n",
              "and can be created using various functions in :class:`SparkSession`:\n",
              "\n",
              "&gt;&gt;&gt; people = spark.createDataFrame([\n",
              "...     {&quot;deptId&quot;: 1, &quot;age&quot;: 40, &quot;name&quot;: &quot;Hyukjin Kwon&quot;, &quot;gender&quot;: &quot;M&quot;, &quot;salary&quot;: 50},\n",
              "...     {&quot;deptId&quot;: 1, &quot;age&quot;: 50, &quot;name&quot;: &quot;Takuya Ueshin&quot;, &quot;gender&quot;: &quot;M&quot;, &quot;salary&quot;: 100},\n",
              "...     {&quot;deptId&quot;: 2, &quot;age&quot;: 60, &quot;name&quot;: &quot;Xinrong Meng&quot;, &quot;gender&quot;: &quot;F&quot;, &quot;salary&quot;: 150},\n",
              "...     {&quot;deptId&quot;: 3, &quot;age&quot;: 20, &quot;name&quot;: &quot;Haejoon Lee&quot;, &quot;gender&quot;: &quot;M&quot;, &quot;salary&quot;: 200}\n",
              "... ])\n",
              "\n",
              "Once created, it can be manipulated using the various domain-specific-language\n",
              "(DSL) functions defined in: :class:`DataFrame`, :class:`Column`.\n",
              "\n",
              "To select a column from the :class:`DataFrame`, use the apply method:\n",
              "\n",
              "&gt;&gt;&gt; age_col = people.age\n",
              "\n",
              "A more concrete example:\n",
              "\n",
              "&gt;&gt;&gt; # To create DataFrame using SparkSession\n",
              "... department = spark.createDataFrame([\n",
              "...     {&quot;id&quot;: 1, &quot;name&quot;: &quot;PySpark&quot;},\n",
              "...     {&quot;id&quot;: 2, &quot;name&quot;: &quot;ML&quot;},\n",
              "...     {&quot;id&quot;: 3, &quot;name&quot;: &quot;Spark SQL&quot;}\n",
              "... ])\n",
              "\n",
              "&gt;&gt;&gt; people.filter(people.age &gt; 30).join(\n",
              "...     department, people.deptId == department.id).groupBy(\n",
              "...     department.name, &quot;gender&quot;).agg({&quot;salary&quot;: &quot;avg&quot;, &quot;age&quot;: &quot;max&quot;}).show()\n",
              "+-------+------+-----------+--------+\n",
              "|   name|gender|avg(salary)|max(age)|\n",
              "+-------+------+-----------+--------+\n",
              "|     ML|     F|      150.0|      60|\n",
              "|PySpark|     M|       75.0|      50|\n",
              "+-------+------+-----------+--------+\n",
              "\n",
              "Notes\n",
              "-----\n",
              "A DataFrame should only be created as described above. It should not be directly\n",
              "created via using the constructor.</pre>\n",
              "      <script>\n",
              "      if (google.colab.kernel.accessAllowed && google.colab.files && google.colab.files.view) {\n",
              "        for (const element of document.querySelectorAll('.filepath')) {\n",
              "          element.style.display = 'block'\n",
              "          element.onclick = (event) => {\n",
              "            event.preventDefault();\n",
              "            event.stopPropagation();\n",
              "            google.colab.files.view(element.textContent, 80);\n",
              "          };\n",
              "        }\n",
              "      }\n",
              "      for (const element of document.querySelectorAll('.function-repr-contents')) {\n",
              "        element.onclick = (event) => {\n",
              "          event.preventDefault();\n",
              "          event.stopPropagation();\n",
              "          element.classList.toggle('function-repr-contents-collapsed');\n",
              "        };\n",
              "      }\n",
              "      </script>\n",
              "      </div>"
            ]
          },
          "metadata": {},
          "execution_count": 9
        }
      ],
      "source": [
        "type(df_pyspark)"
      ]
    },
    {
      "cell_type": "code",
      "execution_count": null,
      "metadata": {
        "colab": {
          "base_uri": "https://localhost:8080/"
        },
        "id": "k9JWs89qgj1X",
        "outputId": "dadff8d2-93c5-4adf-e5f4-01b0324155f3"
      },
      "outputs": [
        {
          "output_type": "execute_result",
          "data": {
            "text/plain": [
              "[Row(Name ='Aryan', Age='24'),\n",
              " Row(Name ='Sahil', Age='23'),\n",
              " Row(Name ='Betu', Age='22')]"
            ]
          },
          "metadata": {},
          "execution_count": 10
        }
      ],
      "source": [
        "df_pyspark.head(3)"
      ]
    },
    {
      "cell_type": "code",
      "execution_count": null,
      "metadata": {
        "colab": {
          "base_uri": "https://localhost:8080/"
        },
        "id": "S6ZkqQOxgj3x",
        "outputId": "302a58af-7ce0-4971-bb7b-a1539f327595"
      },
      "outputs": [
        {
          "output_type": "execute_result",
          "data": {
            "text/plain": [
              "[Row(Name ='Aryan', Age='24'),\n",
              " Row(Name ='Sahil', Age='23'),\n",
              " Row(Name ='Betu', Age='22'),\n",
              " Row(Name ='Ishu', Age='32'),\n",
              " Row(Name ='Krishna', Age='23')]"
            ]
          },
          "metadata": {},
          "execution_count": 11
        }
      ],
      "source": [
        "df_pyspark.head(5)"
      ]
    },
    {
      "cell_type": "code",
      "execution_count": null,
      "metadata": {
        "colab": {
          "base_uri": "https://localhost:8080/"
        },
        "id": "WMR69zURgj5k",
        "outputId": "36b62746-cb4c-40b8-c07d-a476946c818a"
      },
      "outputs": [
        {
          "output_type": "stream",
          "name": "stdout",
          "text": [
            "root\n",
            " |-- Name : string (nullable = true)\n",
            " |-- Age: string (nullable = true)\n",
            "\n"
          ]
        }
      ],
      "source": [
        "df_pyspark.printSchema()"
      ]
    },
    {
      "cell_type": "markdown",
      "metadata": {
        "id": "cBvhDSZEivxD"
      },
      "source": [
        "#Pyspark introduction ended now we will start some practise now ahead\n"
      ]
    },
    {
      "cell_type": "markdown",
      "metadata": {
        "id": "bpkXYS15jJeI"
      },
      "source": [
        "now we will cover thee points in details\n",
        "1:- PySpark Dataframe\n",
        "2:- Readinig the dataset\n",
        "3:- checking the datatypes of the column(schema)\n",
        "4:- selesting columns and indexing\n",
        "5:- check desribe option similar to pandas\n",
        "6:- adding columns\n",
        "7:- dropping columns"
      ]
    },
    {
      "cell_type": "code",
      "execution_count": null,
      "metadata": {
        "id": "A9Yer24agj9N"
      },
      "outputs": [],
      "source": [
        "from pyspark.sql import SparkSession\n",
        "spark = SparkSession.builder.appName('Dataframe').getOrCreate()"
      ]
    },
    {
      "cell_type": "code",
      "execution_count": null,
      "metadata": {
        "colab": {
          "base_uri": "https://localhost:8080/",
          "height": 219
        },
        "id": "Ao-d_jPEk091",
        "outputId": "80d79a67-face-456d-e609-8fb96e29587b"
      },
      "outputs": [
        {
          "output_type": "execute_result",
          "data": {
            "text/plain": [
              "<pyspark.sql.session.SparkSession at 0x78b3e31ec950>"
            ],
            "text/html": [
              "\n",
              "            <div>\n",
              "                <p><b>SparkSession - in-memory</b></p>\n",
              "                \n",
              "        <div>\n",
              "            <p><b>SparkContext</b></p>\n",
              "\n",
              "            <p><a href=\"http://459f8d13f399:4040\">Spark UI</a></p>\n",
              "\n",
              "            <dl>\n",
              "              <dt>Version</dt>\n",
              "                <dd><code>v3.5.1</code></dd>\n",
              "              <dt>Master</dt>\n",
              "                <dd><code>local[*]</code></dd>\n",
              "              <dt>AppName</dt>\n",
              "                <dd><code>Practise</code></dd>\n",
              "            </dl>\n",
              "        </div>\n",
              "        \n",
              "            </div>\n",
              "        "
            ]
          },
          "metadata": {},
          "execution_count": 14
        }
      ],
      "source": [
        "spark"
      ]
    },
    {
      "cell_type": "code",
      "execution_count": null,
      "metadata": {
        "colab": {
          "base_uri": "https://localhost:8080/",
          "height": 488
        },
        "id": "_y0jLVSek1BY",
        "outputId": "5b19c7bc-bb6a-4027-f2d4-8f5fd1276937"
      },
      "outputs": [
        {
          "output_type": "execute_result",
          "data": {
            "text/plain": [
              "        Name   Age  Experience\n",
              "0      Aryan    23           2\n",
              "1       Sahil   24           2\n",
              "2      Mayank   32           3\n",
              "3       Manas   23           2\n",
              "4    Pratyush   21           1\n",
              "5     Kshitiz   25           1\n",
              "6       Ayush   22           2\n",
              "7       Akash   23           2\n",
              "8   Priyanshu   24           2\n",
              "9       Surya   26           3\n",
              "10      Kiran   42           4\n",
              "11       Monu   52           5\n",
              "12      Dholu   32           4\n",
              "13   Siddhant   43           6"
            ],
            "text/html": [
              "\n",
              "  <div id=\"df-a0755011-1073-403a-b223-e3a58cba3cae\" class=\"colab-df-container\">\n",
              "    <div>\n",
              "<style scoped>\n",
              "    .dataframe tbody tr th:only-of-type {\n",
              "        vertical-align: middle;\n",
              "    }\n",
              "\n",
              "    .dataframe tbody tr th {\n",
              "        vertical-align: top;\n",
              "    }\n",
              "\n",
              "    .dataframe thead th {\n",
              "        text-align: right;\n",
              "    }\n",
              "</style>\n",
              "<table border=\"1\" class=\"dataframe\">\n",
              "  <thead>\n",
              "    <tr style=\"text-align: right;\">\n",
              "      <th></th>\n",
              "      <th>Name</th>\n",
              "      <th>Age</th>\n",
              "      <th>Experience</th>\n",
              "    </tr>\n",
              "  </thead>\n",
              "  <tbody>\n",
              "    <tr>\n",
              "      <th>0</th>\n",
              "      <td>Aryan</td>\n",
              "      <td>23</td>\n",
              "      <td>2</td>\n",
              "    </tr>\n",
              "    <tr>\n",
              "      <th>1</th>\n",
              "      <td>Sahil</td>\n",
              "      <td>24</td>\n",
              "      <td>2</td>\n",
              "    </tr>\n",
              "    <tr>\n",
              "      <th>2</th>\n",
              "      <td>Mayank</td>\n",
              "      <td>32</td>\n",
              "      <td>3</td>\n",
              "    </tr>\n",
              "    <tr>\n",
              "      <th>3</th>\n",
              "      <td>Manas</td>\n",
              "      <td>23</td>\n",
              "      <td>2</td>\n",
              "    </tr>\n",
              "    <tr>\n",
              "      <th>4</th>\n",
              "      <td>Pratyush</td>\n",
              "      <td>21</td>\n",
              "      <td>1</td>\n",
              "    </tr>\n",
              "    <tr>\n",
              "      <th>5</th>\n",
              "      <td>Kshitiz</td>\n",
              "      <td>25</td>\n",
              "      <td>1</td>\n",
              "    </tr>\n",
              "    <tr>\n",
              "      <th>6</th>\n",
              "      <td>Ayush</td>\n",
              "      <td>22</td>\n",
              "      <td>2</td>\n",
              "    </tr>\n",
              "    <tr>\n",
              "      <th>7</th>\n",
              "      <td>Akash</td>\n",
              "      <td>23</td>\n",
              "      <td>2</td>\n",
              "    </tr>\n",
              "    <tr>\n",
              "      <th>8</th>\n",
              "      <td>Priyanshu</td>\n",
              "      <td>24</td>\n",
              "      <td>2</td>\n",
              "    </tr>\n",
              "    <tr>\n",
              "      <th>9</th>\n",
              "      <td>Surya</td>\n",
              "      <td>26</td>\n",
              "      <td>3</td>\n",
              "    </tr>\n",
              "    <tr>\n",
              "      <th>10</th>\n",
              "      <td>Kiran</td>\n",
              "      <td>42</td>\n",
              "      <td>4</td>\n",
              "    </tr>\n",
              "    <tr>\n",
              "      <th>11</th>\n",
              "      <td>Monu</td>\n",
              "      <td>52</td>\n",
              "      <td>5</td>\n",
              "    </tr>\n",
              "    <tr>\n",
              "      <th>12</th>\n",
              "      <td>Dholu</td>\n",
              "      <td>32</td>\n",
              "      <td>4</td>\n",
              "    </tr>\n",
              "    <tr>\n",
              "      <th>13</th>\n",
              "      <td>Siddhant</td>\n",
              "      <td>43</td>\n",
              "      <td>6</td>\n",
              "    </tr>\n",
              "  </tbody>\n",
              "</table>\n",
              "</div>\n",
              "    <div class=\"colab-df-buttons\">\n",
              "\n",
              "  <div class=\"colab-df-container\">\n",
              "    <button class=\"colab-df-convert\" onclick=\"convertToInteractive('df-a0755011-1073-403a-b223-e3a58cba3cae')\"\n",
              "            title=\"Convert this dataframe to an interactive table.\"\n",
              "            style=\"display:none;\">\n",
              "\n",
              "  <svg xmlns=\"http://www.w3.org/2000/svg\" height=\"24px\" viewBox=\"0 -960 960 960\">\n",
              "    <path d=\"M120-120v-720h720v720H120Zm60-500h600v-160H180v160Zm220 220h160v-160H400v160Zm0 220h160v-160H400v160ZM180-400h160v-160H180v160Zm440 0h160v-160H620v160ZM180-180h160v-160H180v160Zm440 0h160v-160H620v160Z\"/>\n",
              "  </svg>\n",
              "    </button>\n",
              "\n",
              "  <style>\n",
              "    .colab-df-container {\n",
              "      display:flex;\n",
              "      gap: 12px;\n",
              "    }\n",
              "\n",
              "    .colab-df-convert {\n",
              "      background-color: #E8F0FE;\n",
              "      border: none;\n",
              "      border-radius: 50%;\n",
              "      cursor: pointer;\n",
              "      display: none;\n",
              "      fill: #1967D2;\n",
              "      height: 32px;\n",
              "      padding: 0 0 0 0;\n",
              "      width: 32px;\n",
              "    }\n",
              "\n",
              "    .colab-df-convert:hover {\n",
              "      background-color: #E2EBFA;\n",
              "      box-shadow: 0px 1px 2px rgba(60, 64, 67, 0.3), 0px 1px 3px 1px rgba(60, 64, 67, 0.15);\n",
              "      fill: #174EA6;\n",
              "    }\n",
              "\n",
              "    .colab-df-buttons div {\n",
              "      margin-bottom: 4px;\n",
              "    }\n",
              "\n",
              "    [theme=dark] .colab-df-convert {\n",
              "      background-color: #3B4455;\n",
              "      fill: #D2E3FC;\n",
              "    }\n",
              "\n",
              "    [theme=dark] .colab-df-convert:hover {\n",
              "      background-color: #434B5C;\n",
              "      box-shadow: 0px 1px 3px 1px rgba(0, 0, 0, 0.15);\n",
              "      filter: drop-shadow(0px 1px 2px rgba(0, 0, 0, 0.3));\n",
              "      fill: #FFFFFF;\n",
              "    }\n",
              "  </style>\n",
              "\n",
              "    <script>\n",
              "      const buttonEl =\n",
              "        document.querySelector('#df-a0755011-1073-403a-b223-e3a58cba3cae button.colab-df-convert');\n",
              "      buttonEl.style.display =\n",
              "        google.colab.kernel.accessAllowed ? 'block' : 'none';\n",
              "\n",
              "      async function convertToInteractive(key) {\n",
              "        const element = document.querySelector('#df-a0755011-1073-403a-b223-e3a58cba3cae');\n",
              "        const dataTable =\n",
              "          await google.colab.kernel.invokeFunction('convertToInteractive',\n",
              "                                                    [key], {});\n",
              "        if (!dataTable) return;\n",
              "\n",
              "        const docLinkHtml = 'Like what you see? Visit the ' +\n",
              "          '<a target=\"_blank\" href=https://colab.research.google.com/notebooks/data_table.ipynb>data table notebook</a>'\n",
              "          + ' to learn more about interactive tables.';\n",
              "        element.innerHTML = '';\n",
              "        dataTable['output_type'] = 'display_data';\n",
              "        await google.colab.output.renderOutput(dataTable, element);\n",
              "        const docLink = document.createElement('div');\n",
              "        docLink.innerHTML = docLinkHtml;\n",
              "        element.appendChild(docLink);\n",
              "      }\n",
              "    </script>\n",
              "  </div>\n",
              "\n",
              "\n",
              "    <div id=\"df-5945b926-15c1-4be2-9750-3ea812993efb\">\n",
              "      <button class=\"colab-df-quickchart\" onclick=\"quickchart('df-5945b926-15c1-4be2-9750-3ea812993efb')\"\n",
              "                title=\"Suggest charts\"\n",
              "                style=\"display:none;\">\n",
              "\n",
              "<svg xmlns=\"http://www.w3.org/2000/svg\" height=\"24px\"viewBox=\"0 0 24 24\"\n",
              "     width=\"24px\">\n",
              "    <g>\n",
              "        <path d=\"M19 3H5c-1.1 0-2 .9-2 2v14c0 1.1.9 2 2 2h14c1.1 0 2-.9 2-2V5c0-1.1-.9-2-2-2zM9 17H7v-7h2v7zm4 0h-2V7h2v10zm4 0h-2v-4h2v4z\"/>\n",
              "    </g>\n",
              "</svg>\n",
              "      </button>\n",
              "\n",
              "<style>\n",
              "  .colab-df-quickchart {\n",
              "      --bg-color: #E8F0FE;\n",
              "      --fill-color: #1967D2;\n",
              "      --hover-bg-color: #E2EBFA;\n",
              "      --hover-fill-color: #174EA6;\n",
              "      --disabled-fill-color: #AAA;\n",
              "      --disabled-bg-color: #DDD;\n",
              "  }\n",
              "\n",
              "  [theme=dark] .colab-df-quickchart {\n",
              "      --bg-color: #3B4455;\n",
              "      --fill-color: #D2E3FC;\n",
              "      --hover-bg-color: #434B5C;\n",
              "      --hover-fill-color: #FFFFFF;\n",
              "      --disabled-bg-color: #3B4455;\n",
              "      --disabled-fill-color: #666;\n",
              "  }\n",
              "\n",
              "  .colab-df-quickchart {\n",
              "    background-color: var(--bg-color);\n",
              "    border: none;\n",
              "    border-radius: 50%;\n",
              "    cursor: pointer;\n",
              "    display: none;\n",
              "    fill: var(--fill-color);\n",
              "    height: 32px;\n",
              "    padding: 0;\n",
              "    width: 32px;\n",
              "  }\n",
              "\n",
              "  .colab-df-quickchart:hover {\n",
              "    background-color: var(--hover-bg-color);\n",
              "    box-shadow: 0 1px 2px rgba(60, 64, 67, 0.3), 0 1px 3px 1px rgba(60, 64, 67, 0.15);\n",
              "    fill: var(--button-hover-fill-color);\n",
              "  }\n",
              "\n",
              "  .colab-df-quickchart-complete:disabled,\n",
              "  .colab-df-quickchart-complete:disabled:hover {\n",
              "    background-color: var(--disabled-bg-color);\n",
              "    fill: var(--disabled-fill-color);\n",
              "    box-shadow: none;\n",
              "  }\n",
              "\n",
              "  .colab-df-spinner {\n",
              "    border: 2px solid var(--fill-color);\n",
              "    border-color: transparent;\n",
              "    border-bottom-color: var(--fill-color);\n",
              "    animation:\n",
              "      spin 1s steps(1) infinite;\n",
              "  }\n",
              "\n",
              "  @keyframes spin {\n",
              "    0% {\n",
              "      border-color: transparent;\n",
              "      border-bottom-color: var(--fill-color);\n",
              "      border-left-color: var(--fill-color);\n",
              "    }\n",
              "    20% {\n",
              "      border-color: transparent;\n",
              "      border-left-color: var(--fill-color);\n",
              "      border-top-color: var(--fill-color);\n",
              "    }\n",
              "    30% {\n",
              "      border-color: transparent;\n",
              "      border-left-color: var(--fill-color);\n",
              "      border-top-color: var(--fill-color);\n",
              "      border-right-color: var(--fill-color);\n",
              "    }\n",
              "    40% {\n",
              "      border-color: transparent;\n",
              "      border-right-color: var(--fill-color);\n",
              "      border-top-color: var(--fill-color);\n",
              "    }\n",
              "    60% {\n",
              "      border-color: transparent;\n",
              "      border-right-color: var(--fill-color);\n",
              "    }\n",
              "    80% {\n",
              "      border-color: transparent;\n",
              "      border-right-color: var(--fill-color);\n",
              "      border-bottom-color: var(--fill-color);\n",
              "    }\n",
              "    90% {\n",
              "      border-color: transparent;\n",
              "      border-bottom-color: var(--fill-color);\n",
              "    }\n",
              "  }\n",
              "</style>\n",
              "\n",
              "      <script>\n",
              "        async function quickchart(key) {\n",
              "          const quickchartButtonEl =\n",
              "            document.querySelector('#' + key + ' button');\n",
              "          quickchartButtonEl.disabled = true;  // To prevent multiple clicks.\n",
              "          quickchartButtonEl.classList.add('colab-df-spinner');\n",
              "          try {\n",
              "            const charts = await google.colab.kernel.invokeFunction(\n",
              "                'suggestCharts', [key], {});\n",
              "          } catch (error) {\n",
              "            console.error('Error during call to suggestCharts:', error);\n",
              "          }\n",
              "          quickchartButtonEl.classList.remove('colab-df-spinner');\n",
              "          quickchartButtonEl.classList.add('colab-df-quickchart-complete');\n",
              "        }\n",
              "        (() => {\n",
              "          let quickchartButtonEl =\n",
              "            document.querySelector('#df-5945b926-15c1-4be2-9750-3ea812993efb button');\n",
              "          quickchartButtonEl.style.display =\n",
              "            google.colab.kernel.accessAllowed ? 'block' : 'none';\n",
              "        })();\n",
              "      </script>\n",
              "    </div>\n",
              "\n",
              "    </div>\n",
              "  </div>\n"
            ],
            "application/vnd.google.colaboratory.intrinsic+json": {
              "type": "dataframe",
              "summary": "{\n  \"name\": \"pd\",\n  \"rows\": 14,\n  \"fields\": [\n    {\n      \"column\": \"Name \",\n      \"properties\": {\n        \"dtype\": \"string\",\n        \"num_unique_values\": 14,\n        \"samples\": [\n          \"Surya\",\n          \"Monu\",\n          \"Aryan \"\n        ],\n        \"semantic_type\": \"\",\n        \"description\": \"\"\n      }\n    },\n    {\n      \"column\": \"Age\",\n      \"properties\": {\n        \"dtype\": \"number\",\n        \"std\": 9,\n        \"min\": 21,\n        \"max\": 52,\n        \"num_unique_values\": 10,\n        \"samples\": [\n          52,\n          24,\n          22\n        ],\n        \"semantic_type\": \"\",\n        \"description\": \"\"\n      }\n    },\n    {\n      \"column\": \"Experience\",\n      \"properties\": {\n        \"dtype\": \"number\",\n        \"std\": 1,\n        \"min\": 1,\n        \"max\": 6,\n        \"num_unique_values\": 6,\n        \"samples\": [\n          2,\n          3,\n          6\n        ],\n        \"semantic_type\": \"\",\n        \"description\": \"\"\n      }\n    }\n  ]\n}"
            }
          },
          "metadata": {},
          "execution_count": 15
        }
      ],
      "source": [
        "pd.read_csv('Book.csv')"
      ]
    },
    {
      "cell_type": "code",
      "execution_count": null,
      "metadata": {
        "id": "N3k97Pa0k1Id"
      },
      "outputs": [],
      "source": [
        "df_pyspark = spark.read.option('header','true').csv('Book.csv',inferSchema = True)"
      ]
    },
    {
      "cell_type": "code",
      "execution_count": null,
      "metadata": {
        "colab": {
          "base_uri": "https://localhost:8080/"
        },
        "id": "4mG_MMldk1Kd",
        "outputId": "e56a461d-c683-4c83-d5ee-a80de3b0e50e"
      },
      "outputs": [
        {
          "output_type": "stream",
          "name": "stdout",
          "text": [
            "root\n",
            " |-- Name : string (nullable = true)\n",
            " |-- Age: integer (nullable = true)\n",
            " |-- Experience: integer (nullable = true)\n",
            "\n"
          ]
        }
      ],
      "source": [
        "## Check the schema\n",
        "## Schema means datatypes in pandas\n",
        "df_pyspark.printSchema()"
      ]
    },
    {
      "cell_type": "code",
      "execution_count": null,
      "metadata": {
        "colab": {
          "base_uri": "https://localhost:8080/"
        },
        "id": "bUX1y74Pk1L6",
        "outputId": "d6101cfb-fa56-4399-8528-8efa0d3b830f"
      },
      "outputs": [
        {
          "output_type": "stream",
          "name": "stdout",
          "text": [
            "+---------+---+----------+\n",
            "|    Name |Age|Experience|\n",
            "+---------+---+----------+\n",
            "|   Aryan | 23|         2|\n",
            "|    Sahil| 24|         2|\n",
            "|   Mayank| 32|         3|\n",
            "|    Manas| 23|         2|\n",
            "| Pratyush| 21|         1|\n",
            "|  Kshitiz| 25|         1|\n",
            "|    Ayush| 22|         2|\n",
            "|    Akash| 23|         2|\n",
            "|Priyanshu| 24|         2|\n",
            "|    Surya| 26|         3|\n",
            "|    Kiran| 42|         4|\n",
            "|     Monu| 52|         5|\n",
            "|    Dholu| 32|         4|\n",
            "| Siddhant| 43|         6|\n",
            "+---------+---+----------+\n",
            "\n"
          ]
        }
      ],
      "source": [
        "df_pyspark = spark.read.csv('Book.csv', header = True, inferSchema = True)\n",
        "df_pyspark.show()"
      ]
    },
    {
      "cell_type": "code",
      "execution_count": null,
      "metadata": {
        "colab": {
          "base_uri": "https://localhost:8080/"
        },
        "id": "TRga1HRSLPTC",
        "outputId": "921f2bf4-8bf8-4c85-c4d8-907ca07a324a"
      },
      "outputs": [
        {
          "output_type": "stream",
          "name": "stdout",
          "text": [
            "root\n",
            " |-- Name : string (nullable = true)\n",
            " |-- Age: integer (nullable = true)\n",
            " |-- Experience: integer (nullable = true)\n",
            "\n"
          ]
        }
      ],
      "source": [
        "df_pyspark.printSchema()"
      ]
    },
    {
      "cell_type": "code",
      "execution_count": null,
      "metadata": {
        "colab": {
          "base_uri": "https://localhost:8080/",
          "height": 187
        },
        "id": "gTH627BrLPVc",
        "outputId": "11be7840-bd6c-4ffb-9141-6737a6bc959a"
      },
      "outputs": [
        {
          "output_type": "execute_result",
          "data": {
            "text/plain": [
              "pyspark.sql.dataframe.DataFrame"
            ],
            "text/html": [
              "<div style=\"max-width:800px; border: 1px solid var(--colab-border-color);\"><style>\n",
              "      pre.function-repr-contents {\n",
              "        overflow-x: auto;\n",
              "        padding: 8px 12px;\n",
              "        max-height: 500px;\n",
              "      }\n",
              "\n",
              "      pre.function-repr-contents.function-repr-contents-collapsed {\n",
              "        cursor: pointer;\n",
              "        max-height: 100px;\n",
              "      }\n",
              "    </style>\n",
              "    <pre style=\"white-space: initial; background:\n",
              "         var(--colab-secondary-surface-color); padding: 8px 12px;\n",
              "         border-bottom: 1px solid var(--colab-border-color);\"><b>pyspark.sql.dataframe.DataFrame</b><br/>def __init__(jdf: JavaObject, sql_ctx: Union[&#x27;SQLContext&#x27;, &#x27;SparkSession&#x27;])</pre><pre class=\"function-repr-contents function-repr-contents-collapsed\" style=\"\"><a class=\"filepath\" style=\"display:none\" href=\"#\">/usr/local/lib/python3.11/dist-packages/pyspark/sql/dataframe.py</a>A distributed collection of data grouped into named columns.\n",
              "\n",
              ".. versionadded:: 1.3.0\n",
              "\n",
              ".. versionchanged:: 3.4.0\n",
              "    Supports Spark Connect.\n",
              "\n",
              "Examples\n",
              "--------\n",
              "A :class:`DataFrame` is equivalent to a relational table in Spark SQL,\n",
              "and can be created using various functions in :class:`SparkSession`:\n",
              "\n",
              "&gt;&gt;&gt; people = spark.createDataFrame([\n",
              "...     {&quot;deptId&quot;: 1, &quot;age&quot;: 40, &quot;name&quot;: &quot;Hyukjin Kwon&quot;, &quot;gender&quot;: &quot;M&quot;, &quot;salary&quot;: 50},\n",
              "...     {&quot;deptId&quot;: 1, &quot;age&quot;: 50, &quot;name&quot;: &quot;Takuya Ueshin&quot;, &quot;gender&quot;: &quot;M&quot;, &quot;salary&quot;: 100},\n",
              "...     {&quot;deptId&quot;: 2, &quot;age&quot;: 60, &quot;name&quot;: &quot;Xinrong Meng&quot;, &quot;gender&quot;: &quot;F&quot;, &quot;salary&quot;: 150},\n",
              "...     {&quot;deptId&quot;: 3, &quot;age&quot;: 20, &quot;name&quot;: &quot;Haejoon Lee&quot;, &quot;gender&quot;: &quot;M&quot;, &quot;salary&quot;: 200}\n",
              "... ])\n",
              "\n",
              "Once created, it can be manipulated using the various domain-specific-language\n",
              "(DSL) functions defined in: :class:`DataFrame`, :class:`Column`.\n",
              "\n",
              "To select a column from the :class:`DataFrame`, use the apply method:\n",
              "\n",
              "&gt;&gt;&gt; age_col = people.age\n",
              "\n",
              "A more concrete example:\n",
              "\n",
              "&gt;&gt;&gt; # To create DataFrame using SparkSession\n",
              "... department = spark.createDataFrame([\n",
              "...     {&quot;id&quot;: 1, &quot;name&quot;: &quot;PySpark&quot;},\n",
              "...     {&quot;id&quot;: 2, &quot;name&quot;: &quot;ML&quot;},\n",
              "...     {&quot;id&quot;: 3, &quot;name&quot;: &quot;Spark SQL&quot;}\n",
              "... ])\n",
              "\n",
              "&gt;&gt;&gt; people.filter(people.age &gt; 30).join(\n",
              "...     department, people.deptId == department.id).groupBy(\n",
              "...     department.name, &quot;gender&quot;).agg({&quot;salary&quot;: &quot;avg&quot;, &quot;age&quot;: &quot;max&quot;}).show()\n",
              "+-------+------+-----------+--------+\n",
              "|   name|gender|avg(salary)|max(age)|\n",
              "+-------+------+-----------+--------+\n",
              "|     ML|     F|      150.0|      60|\n",
              "|PySpark|     M|       75.0|      50|\n",
              "+-------+------+-----------+--------+\n",
              "\n",
              "Notes\n",
              "-----\n",
              "A DataFrame should only be created as described above. It should not be directly\n",
              "created via using the constructor.</pre>\n",
              "      <script>\n",
              "      if (google.colab.kernel.accessAllowed && google.colab.files && google.colab.files.view) {\n",
              "        for (const element of document.querySelectorAll('.filepath')) {\n",
              "          element.style.display = 'block'\n",
              "          element.onclick = (event) => {\n",
              "            event.preventDefault();\n",
              "            event.stopPropagation();\n",
              "            google.colab.files.view(element.textContent, 80);\n",
              "          };\n",
              "        }\n",
              "      }\n",
              "      for (const element of document.querySelectorAll('.function-repr-contents')) {\n",
              "        element.onclick = (event) => {\n",
              "          event.preventDefault();\n",
              "          event.stopPropagation();\n",
              "          element.classList.toggle('function-repr-contents-collapsed');\n",
              "        };\n",
              "      }\n",
              "      </script>\n",
              "      </div>"
            ]
          },
          "metadata": {},
          "execution_count": 20
        }
      ],
      "source": [
        "type(df_pyspark)"
      ]
    },
    {
      "cell_type": "code",
      "execution_count": null,
      "metadata": {
        "colab": {
          "base_uri": "https://localhost:8080/"
        },
        "id": "ESz8eylALPX3",
        "outputId": "1bef8fad-5dd8-4719-efe1-50df8bfe78d7"
      },
      "outputs": [
        {
          "output_type": "execute_result",
          "data": {
            "text/plain": [
              "['Name ', 'Age', 'Experience']"
            ]
          },
          "metadata": {},
          "execution_count": 21
        }
      ],
      "source": [
        "df_pyspark.columns"
      ]
    },
    {
      "cell_type": "code",
      "execution_count": null,
      "metadata": {
        "colab": {
          "base_uri": "https://localhost:8080/"
        },
        "id": "IC4-ppf_LPaN",
        "outputId": "de64f75e-dcf9-4c95-874e-93a079c6bb9d"
      },
      "outputs": [
        {
          "output_type": "execute_result",
          "data": {
            "text/plain": [
              "[Row(Name ='Aryan ', Age=23, Experience=2),\n",
              " Row(Name ='Sahil', Age=24, Experience=2),\n",
              " Row(Name ='Mayank', Age=32, Experience=3),\n",
              " Row(Name ='Manas', Age=23, Experience=2)]"
            ]
          },
          "metadata": {},
          "execution_count": 22
        }
      ],
      "source": [
        "df_pyspark.head(4)"
      ]
    },
    {
      "cell_type": "code",
      "execution_count": null,
      "metadata": {
        "colab": {
          "base_uri": "https://localhost:8080/"
        },
        "id": "Z4MesinwLPcV",
        "outputId": "23f30a6c-a050-44a8-b02b-0de72aa73726"
      },
      "outputs": [
        {
          "output_type": "stream",
          "name": "stdout",
          "text": [
            "+---------+---+----------+\n",
            "|    Name |Age|Experience|\n",
            "+---------+---+----------+\n",
            "|   Aryan | 23|         2|\n",
            "|    Sahil| 24|         2|\n",
            "|   Mayank| 32|         3|\n",
            "|    Manas| 23|         2|\n",
            "| Pratyush| 21|         1|\n",
            "|  Kshitiz| 25|         1|\n",
            "|    Ayush| 22|         2|\n",
            "|    Akash| 23|         2|\n",
            "|Priyanshu| 24|         2|\n",
            "|    Surya| 26|         3|\n",
            "|    Kiran| 42|         4|\n",
            "|     Monu| 52|         5|\n",
            "|    Dholu| 32|         4|\n",
            "| Siddhant| 43|         6|\n",
            "+---------+---+----------+\n",
            "\n"
          ]
        }
      ],
      "source": [
        "df_pyspark.show()"
      ]
    },
    {
      "cell_type": "code",
      "execution_count": null,
      "metadata": {
        "colab": {
          "base_uri": "https://localhost:8080/"
        },
        "id": "Q9pa6J5ILPes",
        "outputId": "2c1e1b62-606d-4544-e9af-053e10939841"
      },
      "outputs": [
        {
          "output_type": "stream",
          "name": "stdout",
          "text": [
            "+---------+\n",
            "|    Name |\n",
            "+---------+\n",
            "|   Aryan |\n",
            "|    Sahil|\n",
            "|   Mayank|\n",
            "|    Manas|\n",
            "| Pratyush|\n",
            "|  Kshitiz|\n",
            "|    Ayush|\n",
            "|    Akash|\n",
            "|Priyanshu|\n",
            "|    Surya|\n",
            "|    Kiran|\n",
            "|     Monu|\n",
            "|    Dholu|\n",
            "| Siddhant|\n",
            "+---------+\n",
            "\n",
            "+---+\n",
            "|Age|\n",
            "+---+\n",
            "| 23|\n",
            "| 24|\n",
            "| 32|\n",
            "| 23|\n",
            "| 21|\n",
            "| 25|\n",
            "| 22|\n",
            "| 23|\n",
            "| 24|\n",
            "| 26|\n",
            "| 42|\n",
            "| 52|\n",
            "| 32|\n",
            "| 43|\n",
            "+---+\n",
            "\n",
            "+----------+\n",
            "|Experience|\n",
            "+----------+\n",
            "|         2|\n",
            "|         2|\n",
            "|         3|\n",
            "|         2|\n",
            "|         1|\n",
            "|         1|\n",
            "|         2|\n",
            "|         2|\n",
            "|         2|\n",
            "|         3|\n",
            "|         4|\n",
            "|         5|\n",
            "|         4|\n",
            "|         6|\n",
            "+----------+\n",
            "\n"
          ]
        }
      ],
      "source": [
        "df_pyspark.select('Name ')### This will give the output like this (DataFrame[Name : string]) now if we want to see the full column we have to use .show()\n",
        "df_pyspark.select('Name ').show()### Similarly we will practise the next 2 also\n",
        "df_pyspark.select('Age').show()\n",
        "df_pyspark.select('Experience').show()"
      ]
    },
    {
      "cell_type": "code",
      "execution_count": null,
      "metadata": {
        "colab": {
          "base_uri": "https://localhost:8080/",
          "height": 187
        },
        "id": "omXehK2WLPhB",
        "outputId": "70ef1334-b5e9-49c4-f92a-43052a9978fe"
      },
      "outputs": [
        {
          "output_type": "execute_result",
          "data": {
            "text/plain": [
              "pyspark.sql.dataframe.DataFrame"
            ],
            "text/html": [
              "<div style=\"max-width:800px; border: 1px solid var(--colab-border-color);\"><style>\n",
              "      pre.function-repr-contents {\n",
              "        overflow-x: auto;\n",
              "        padding: 8px 12px;\n",
              "        max-height: 500px;\n",
              "      }\n",
              "\n",
              "      pre.function-repr-contents.function-repr-contents-collapsed {\n",
              "        cursor: pointer;\n",
              "        max-height: 100px;\n",
              "      }\n",
              "    </style>\n",
              "    <pre style=\"white-space: initial; background:\n",
              "         var(--colab-secondary-surface-color); padding: 8px 12px;\n",
              "         border-bottom: 1px solid var(--colab-border-color);\"><b>pyspark.sql.dataframe.DataFrame</b><br/>def __init__(jdf: JavaObject, sql_ctx: Union[&#x27;SQLContext&#x27;, &#x27;SparkSession&#x27;])</pre><pre class=\"function-repr-contents function-repr-contents-collapsed\" style=\"\"><a class=\"filepath\" style=\"display:none\" href=\"#\">/usr/local/lib/python3.11/dist-packages/pyspark/sql/dataframe.py</a>A distributed collection of data grouped into named columns.\n",
              "\n",
              ".. versionadded:: 1.3.0\n",
              "\n",
              ".. versionchanged:: 3.4.0\n",
              "    Supports Spark Connect.\n",
              "\n",
              "Examples\n",
              "--------\n",
              "A :class:`DataFrame` is equivalent to a relational table in Spark SQL,\n",
              "and can be created using various functions in :class:`SparkSession`:\n",
              "\n",
              "&gt;&gt;&gt; people = spark.createDataFrame([\n",
              "...     {&quot;deptId&quot;: 1, &quot;age&quot;: 40, &quot;name&quot;: &quot;Hyukjin Kwon&quot;, &quot;gender&quot;: &quot;M&quot;, &quot;salary&quot;: 50},\n",
              "...     {&quot;deptId&quot;: 1, &quot;age&quot;: 50, &quot;name&quot;: &quot;Takuya Ueshin&quot;, &quot;gender&quot;: &quot;M&quot;, &quot;salary&quot;: 100},\n",
              "...     {&quot;deptId&quot;: 2, &quot;age&quot;: 60, &quot;name&quot;: &quot;Xinrong Meng&quot;, &quot;gender&quot;: &quot;F&quot;, &quot;salary&quot;: 150},\n",
              "...     {&quot;deptId&quot;: 3, &quot;age&quot;: 20, &quot;name&quot;: &quot;Haejoon Lee&quot;, &quot;gender&quot;: &quot;M&quot;, &quot;salary&quot;: 200}\n",
              "... ])\n",
              "\n",
              "Once created, it can be manipulated using the various domain-specific-language\n",
              "(DSL) functions defined in: :class:`DataFrame`, :class:`Column`.\n",
              "\n",
              "To select a column from the :class:`DataFrame`, use the apply method:\n",
              "\n",
              "&gt;&gt;&gt; age_col = people.age\n",
              "\n",
              "A more concrete example:\n",
              "\n",
              "&gt;&gt;&gt; # To create DataFrame using SparkSession\n",
              "... department = spark.createDataFrame([\n",
              "...     {&quot;id&quot;: 1, &quot;name&quot;: &quot;PySpark&quot;},\n",
              "...     {&quot;id&quot;: 2, &quot;name&quot;: &quot;ML&quot;},\n",
              "...     {&quot;id&quot;: 3, &quot;name&quot;: &quot;Spark SQL&quot;}\n",
              "... ])\n",
              "\n",
              "&gt;&gt;&gt; people.filter(people.age &gt; 30).join(\n",
              "...     department, people.deptId == department.id).groupBy(\n",
              "...     department.name, &quot;gender&quot;).agg({&quot;salary&quot;: &quot;avg&quot;, &quot;age&quot;: &quot;max&quot;}).show()\n",
              "+-------+------+-----------+--------+\n",
              "|   name|gender|avg(salary)|max(age)|\n",
              "+-------+------+-----------+--------+\n",
              "|     ML|     F|      150.0|      60|\n",
              "|PySpark|     M|       75.0|      50|\n",
              "+-------+------+-----------+--------+\n",
              "\n",
              "Notes\n",
              "-----\n",
              "A DataFrame should only be created as described above. It should not be directly\n",
              "created via using the constructor.</pre>\n",
              "      <script>\n",
              "      if (google.colab.kernel.accessAllowed && google.colab.files && google.colab.files.view) {\n",
              "        for (const element of document.querySelectorAll('.filepath')) {\n",
              "          element.style.display = 'block'\n",
              "          element.onclick = (event) => {\n",
              "            event.preventDefault();\n",
              "            event.stopPropagation();\n",
              "            google.colab.files.view(element.textContent, 80);\n",
              "          };\n",
              "        }\n",
              "      }\n",
              "      for (const element of document.querySelectorAll('.function-repr-contents')) {\n",
              "        element.onclick = (event) => {\n",
              "          event.preventDefault();\n",
              "          event.stopPropagation();\n",
              "          element.classList.toggle('function-repr-contents-collapsed');\n",
              "        };\n",
              "      }\n",
              "      </script>\n",
              "      </div>"
            ]
          },
          "metadata": {},
          "execution_count": 25
        }
      ],
      "source": [
        "###now lets check the types of each of the columns seperately\n",
        "type(df_pyspark.select('Name '))\n",
        "type(df_pyspark.select('Age'))\n",
        "type(df_pyspark.select('Experience'))"
      ]
    },
    {
      "cell_type": "code",
      "execution_count": null,
      "metadata": {
        "colab": {
          "base_uri": "https://localhost:8080/"
        },
        "id": "LmTOBO49LPjb",
        "outputId": "733d9d54-f099-46bc-ce39-e509d9856215"
      },
      "outputs": [
        {
          "output_type": "stream",
          "name": "stdout",
          "text": [
            "+---+----------+\n",
            "|Age|Experience|\n",
            "+---+----------+\n",
            "| 23|         2|\n",
            "| 24|         2|\n",
            "| 32|         3|\n",
            "| 23|         2|\n",
            "| 21|         1|\n",
            "| 25|         1|\n",
            "| 22|         2|\n",
            "| 23|         2|\n",
            "| 24|         2|\n",
            "| 26|         3|\n",
            "| 42|         4|\n",
            "| 52|         5|\n",
            "| 32|         4|\n",
            "| 43|         6|\n",
            "+---+----------+\n",
            "\n",
            "+---+---------+\n",
            "|Age|    Name |\n",
            "+---+---------+\n",
            "| 23|   Aryan |\n",
            "| 24|    Sahil|\n",
            "| 32|   Mayank|\n",
            "| 23|    Manas|\n",
            "| 21| Pratyush|\n",
            "| 25|  Kshitiz|\n",
            "| 22|    Ayush|\n",
            "| 23|    Akash|\n",
            "| 24|Priyanshu|\n",
            "| 26|    Surya|\n",
            "| 42|    Kiran|\n",
            "| 52|     Monu|\n",
            "| 32|    Dholu|\n",
            "| 43| Siddhant|\n",
            "+---+---------+\n",
            "\n",
            "+---------+---+\n",
            "|    Name |Age|\n",
            "+---------+---+\n",
            "|   Aryan | 23|\n",
            "|    Sahil| 24|\n",
            "|   Mayank| 32|\n",
            "|    Manas| 23|\n",
            "| Pratyush| 21|\n",
            "|  Kshitiz| 25|\n",
            "|    Ayush| 22|\n",
            "|    Akash| 23|\n",
            "|Priyanshu| 24|\n",
            "|    Surya| 26|\n",
            "|    Kiran| 42|\n",
            "|     Monu| 52|\n",
            "|    Dholu| 32|\n",
            "| Siddhant| 43|\n",
            "+---------+---+\n",
            "\n",
            "+---------+----------+\n",
            "|    Name |Experience|\n",
            "+---------+----------+\n",
            "|   Aryan |         2|\n",
            "|    Sahil|         2|\n",
            "|   Mayank|         3|\n",
            "|    Manas|         2|\n",
            "| Pratyush|         1|\n",
            "|  Kshitiz|         1|\n",
            "|    Ayush|         2|\n",
            "|    Akash|         2|\n",
            "|Priyanshu|         2|\n",
            "|    Surya|         3|\n",
            "|    Kiran|         4|\n",
            "|     Monu|         5|\n",
            "|    Dholu|         4|\n",
            "| Siddhant|         6|\n",
            "+---------+----------+\n",
            "\n"
          ]
        }
      ],
      "source": [
        "###now lets try to pick up 2 columns together\n",
        "df_pyspark.select(['Age', 'Experience']).show()\n",
        "df_pyspark.select(['Age', 'Name ']).show()\n",
        "df_pyspark.select(['Name ', 'Age']).show()\n",
        "df_pyspark.select(['Name ', 'Experience']).show()"
      ]
    },
    {
      "cell_type": "code",
      "execution_count": null,
      "metadata": {
        "colab": {
          "base_uri": "https://localhost:8080/"
        },
        "id": "u7m6MUDILPlZ",
        "outputId": "eebf348a-02a2-4eff-fd4f-03d4ae9ac142"
      },
      "outputs": [
        {
          "output_type": "execute_result",
          "data": {
            "text/plain": [
              "Column<'Name '>"
            ]
          },
          "metadata": {},
          "execution_count": 27
        }
      ],
      "source": [
        "df_pyspark['Name ']\n"
      ]
    },
    {
      "cell_type": "code",
      "execution_count": null,
      "metadata": {
        "colab": {
          "base_uri": "https://localhost:8080/"
        },
        "id": "DRtuml2xLPo5",
        "outputId": "12106264-bb84-40de-9056-f2c3f097ad23"
      },
      "outputs": [
        {
          "output_type": "execute_result",
          "data": {
            "text/plain": [
              "[('Name ', 'string'), ('Age', 'int'), ('Experience', 'int')]"
            ]
          },
          "metadata": {},
          "execution_count": 28
        }
      ],
      "source": [
        "df_pyspark.dtypes"
      ]
    },
    {
      "cell_type": "code",
      "execution_count": null,
      "metadata": {
        "colab": {
          "base_uri": "https://localhost:8080/"
        },
        "id": "qrgCvrdgQCSg",
        "outputId": "34cbc2c7-6074-494d-b86c-f3344afdd5a1"
      },
      "outputs": [
        {
          "output_type": "stream",
          "name": "stdout",
          "text": [
            "+-------+-----+------------------+------------------+\n",
            "|summary|Name |               Age|        Experience|\n",
            "+-------+-----+------------------+------------------+\n",
            "|  count|   14|                14|                14|\n",
            "|   mean| NULL|29.428571428571427|2.7857142857142856|\n",
            "| stddev| NULL|   9.6293963842639|1.4769288003552106|\n",
            "|    min|Akash|                21|                 1|\n",
            "|    max|Surya|                52|                 6|\n",
            "+-------+-----+------------------+------------------+\n",
            "\n"
          ]
        }
      ],
      "source": [
        "df_pyspark.describe().show()"
      ]
    },
    {
      "cell_type": "code",
      "execution_count": null,
      "metadata": {
        "colab": {
          "base_uri": "https://localhost:8080/"
        },
        "id": "mnPIRUBLQCU6",
        "outputId": "2d39f28f-cf66-4c4c-d208-a63eb2d07de1"
      },
      "outputs": [
        {
          "output_type": "stream",
          "name": "stdout",
          "text": [
            "+---------+---+----------+------------------------+\n",
            "|    Name |Age|Experience|Experience After 2 years|\n",
            "+---------+---+----------+------------------------+\n",
            "|   Aryan | 23|         2|                       4|\n",
            "|    Sahil| 24|         2|                       4|\n",
            "|   Mayank| 32|         3|                       5|\n",
            "|    Manas| 23|         2|                       4|\n",
            "| Pratyush| 21|         1|                       3|\n",
            "|  Kshitiz| 25|         1|                       3|\n",
            "|    Ayush| 22|         2|                       4|\n",
            "|    Akash| 23|         2|                       4|\n",
            "|Priyanshu| 24|         2|                       4|\n",
            "|    Surya| 26|         3|                       5|\n",
            "|    Kiran| 42|         4|                       6|\n",
            "|     Monu| 52|         5|                       7|\n",
            "|    Dholu| 32|         4|                       6|\n",
            "| Siddhant| 43|         6|                       8|\n",
            "+---------+---+----------+------------------------+\n",
            "\n"
          ]
        }
      ],
      "source": [
        "### Addinig the columns in the data frames\n",
        "df_pyspark.withColumn('Experience After 2 years', df_pyspark['Experience']+2).show()"
      ]
    },
    {
      "cell_type": "code",
      "execution_count": null,
      "metadata": {
        "colab": {
          "base_uri": "https://localhost:8080/"
        },
        "id": "h9gM-YBsQCXO",
        "outputId": "3a10e9bb-e445-4d11-e8a9-6b75a5c9ad50"
      },
      "outputs": [
        {
          "output_type": "stream",
          "name": "stdout",
          "text": [
            "+---------+---+----------+------------------------+\n",
            "|    Name |Age|Experience|Experience After 4 years|\n",
            "+---------+---+----------+------------------------+\n",
            "|   Aryan | 23|         2|                       6|\n",
            "|    Sahil| 24|         2|                       6|\n",
            "|   Mayank| 32|         3|                       7|\n",
            "|    Manas| 23|         2|                       6|\n",
            "| Pratyush| 21|         1|                       5|\n",
            "|  Kshitiz| 25|         1|                       5|\n",
            "|    Ayush| 22|         2|                       6|\n",
            "|    Akash| 23|         2|                       6|\n",
            "|Priyanshu| 24|         2|                       6|\n",
            "|    Surya| 26|         3|                       7|\n",
            "|    Kiran| 42|         4|                       8|\n",
            "|     Monu| 52|         5|                       9|\n",
            "|    Dholu| 32|         4|                       8|\n",
            "| Siddhant| 43|         6|                      10|\n",
            "+---------+---+----------+------------------------+\n",
            "\n",
            "+---------+---+----------+-------------------------+\n",
            "|    Name |Age|Experience|Experience after 10 years|\n",
            "+---------+---+----------+-------------------------+\n",
            "|   Aryan | 23|         2|                       12|\n",
            "|    Sahil| 24|         2|                       12|\n",
            "|   Mayank| 32|         3|                       13|\n",
            "|    Manas| 23|         2|                       12|\n",
            "| Pratyush| 21|         1|                       11|\n",
            "|  Kshitiz| 25|         1|                       11|\n",
            "|    Ayush| 22|         2|                       12|\n",
            "|    Akash| 23|         2|                       12|\n",
            "|Priyanshu| 24|         2|                       12|\n",
            "|    Surya| 26|         3|                       13|\n",
            "|    Kiran| 42|         4|                       14|\n",
            "|     Monu| 52|         5|                       15|\n",
            "|    Dholu| 32|         4|                       14|\n",
            "| Siddhant| 43|         6|                       16|\n",
            "+---------+---+----------+-------------------------+\n",
            "\n"
          ]
        }
      ],
      "source": [
        "### Now lets try for after 4 years and 10 years seperately\n",
        "df_pyspark.withColumn('Experience After 4 years', df_pyspark['Experience']+4).show()\n",
        "df_pyspark.withColumn('Experience after 10 years', df_pyspark['Experience']+10).show()"
      ]
    },
    {
      "cell_type": "code",
      "execution_count": null,
      "metadata": {
        "colab": {
          "base_uri": "https://localhost:8080/"
        },
        "id": "7n0C0mQYQCZq",
        "outputId": "f2da4ade-244a-499c-9000-c90059f79858"
      },
      "outputs": [
        {
          "output_type": "stream",
          "name": "stdout",
          "text": [
            "+---------+---+----------+------------------------+\n",
            "|    Name |Age|Experience|Experience before 1 year|\n",
            "+---------+---+----------+------------------------+\n",
            "|   Aryan | 23|         2|                       1|\n",
            "|    Sahil| 24|         2|                       1|\n",
            "|   Mayank| 32|         3|                       2|\n",
            "|    Manas| 23|         2|                       1|\n",
            "| Pratyush| 21|         1|                       0|\n",
            "|  Kshitiz| 25|         1|                       0|\n",
            "|    Ayush| 22|         2|                       1|\n",
            "|    Akash| 23|         2|                       1|\n",
            "|Priyanshu| 24|         2|                       1|\n",
            "|    Surya| 26|         3|                       2|\n",
            "|    Kiran| 42|         4|                       3|\n",
            "|     Monu| 52|         5|                       4|\n",
            "|    Dholu| 32|         4|                       3|\n",
            "| Siddhant| 43|         6|                       5|\n",
            "+---------+---+----------+------------------------+\n",
            "\n"
          ]
        }
      ],
      "source": [
        "### Experience before 1 years\n",
        "df_pyspark.withColumn('Experience before 1 year', df_pyspark['Experience']-1).show()"
      ]
    },
    {
      "cell_type": "code",
      "execution_count": null,
      "metadata": {
        "colab": {
          "base_uri": "https://localhost:8080/"
        },
        "id": "lMi2iDjlQCcC",
        "outputId": "bdeb5f17-26f9-4f7c-b400-85fedc396f60"
      },
      "outputs": [
        {
          "output_type": "stream",
          "name": "stdout",
          "text": [
            "+---------+---+----------+\n",
            "|    Name |Age|Experience|\n",
            "+---------+---+----------+\n",
            "|   Aryan | 23|         2|\n",
            "|    Sahil| 24|         2|\n",
            "|   Mayank| 32|         3|\n",
            "|    Manas| 23|         2|\n",
            "| Pratyush| 21|         1|\n",
            "|  Kshitiz| 25|         1|\n",
            "|    Ayush| 22|         2|\n",
            "|    Akash| 23|         2|\n",
            "|Priyanshu| 24|         2|\n",
            "|    Surya| 26|         3|\n",
            "|    Kiran| 42|         4|\n",
            "|     Monu| 52|         5|\n",
            "|    Dholu| 32|         4|\n",
            "| Siddhant| 43|         6|\n",
            "+---------+---+----------+\n",
            "\n"
          ]
        }
      ],
      "source": [
        "### Droping the columns from the dataset\n",
        "df_pyspark.drop('Experience before 1 year').show()"
      ]
    },
    {
      "cell_type": "code",
      "execution_count": null,
      "metadata": {
        "colab": {
          "base_uri": "https://localhost:8080/"
        },
        "id": "w3a6Y6TlQCeW",
        "outputId": "4b4bd749-941e-4d45-8c3c-c03997d9b29b"
      },
      "outputs": [
        {
          "output_type": "stream",
          "name": "stdout",
          "text": [
            "+---------+----------+\n",
            "|    Name |Experience|\n",
            "+---------+----------+\n",
            "|   Aryan |         2|\n",
            "|    Sahil|         2|\n",
            "|   Mayank|         3|\n",
            "|    Manas|         2|\n",
            "| Pratyush|         1|\n",
            "|  Kshitiz|         1|\n",
            "|    Ayush|         2|\n",
            "|    Akash|         2|\n",
            "|Priyanshu|         2|\n",
            "|    Surya|         3|\n",
            "|    Kiran|         4|\n",
            "|     Monu|         5|\n",
            "|    Dholu|         4|\n",
            "| Siddhant|         6|\n",
            "+---------+----------+\n",
            "\n"
          ]
        }
      ],
      "source": [
        "df_pyspark.drop('Age').show()"
      ]
    },
    {
      "cell_type": "code",
      "execution_count": null,
      "metadata": {
        "colab": {
          "base_uri": "https://localhost:8080/"
        },
        "id": "N9tt8WwdQCh3",
        "outputId": "35bbcf5f-807f-4572-d15e-2337e1fd5e06"
      },
      "outputs": [
        {
          "output_type": "stream",
          "name": "stdout",
          "text": [
            "+---------+---+----------+\n",
            "| New Name|Age|Experience|\n",
            "+---------+---+----------+\n",
            "|   Aryan | 23|         2|\n",
            "|    Sahil| 24|         2|\n",
            "|   Mayank| 32|         3|\n",
            "|    Manas| 23|         2|\n",
            "| Pratyush| 21|         1|\n",
            "|  Kshitiz| 25|         1|\n",
            "|    Ayush| 22|         2|\n",
            "|    Akash| 23|         2|\n",
            "|Priyanshu| 24|         2|\n",
            "|    Surya| 26|         3|\n",
            "|    Kiran| 42|         4|\n",
            "|     Monu| 52|         5|\n",
            "|    Dholu| 32|         4|\n",
            "| Siddhant| 43|         6|\n",
            "+---------+---+----------+\n",
            "\n"
          ]
        }
      ],
      "source": [
        "### Rename the columns\n",
        "df_pyspark.withColumnRenamed('Name ', 'New Name').show()"
      ]
    },
    {
      "cell_type": "markdown",
      "metadata": {
        "id": "YG_dyJu5wPLL"
      },
      "source": [
        "Pyspark Handling Missing Values\n",
        "\n",
        "1:- Dropping Columns\n",
        "2:- Dropping Rows\n",
        "3:- Various Parameters in Dropping functionalities.\n",
        "4:- Handling Missing values by Mean, Median, Mode."
      ]
    },
    {
      "cell_type": "code",
      "execution_count": null,
      "metadata": {
        "id": "eiVVYKsQwsZ-"
      },
      "outputs": [],
      "source": [
        "from pyspark.sql import SparkSession\n",
        "spark = SparkSession.builder.appName('Practise').getOrCreate()"
      ]
    },
    {
      "cell_type": "code",
      "execution_count": null,
      "metadata": {
        "id": "HNiRY0ULw31L"
      },
      "outputs": [],
      "source": [
        "df_pysparkk = spark.read.csv('book211.csv', header = True, inferSchema = True)"
      ]
    },
    {
      "cell_type": "code",
      "execution_count": null,
      "metadata": {
        "id": "e2EwMxvCw3xp",
        "colab": {
          "base_uri": "https://localhost:8080/"
        },
        "outputId": "480de298-7bd3-4796-8a5f-8b6fb207673a"
      },
      "outputs": [
        {
          "output_type": "stream",
          "name": "stdout",
          "text": [
            "+-------+----+----------+------+\n",
            "|   Name| Age|Experience|Salary|\n",
            "+-------+----+----------+------+\n",
            "|  Sahil|  23|        12| 30000|\n",
            "|   Golu|  24|        12| 30000|\n",
            "|    Ram|  22|         4| 25000|\n",
            "| Govind|  34|         1| 32000|\n",
            "| Shayam|  23|         2| 12000|\n",
            "| Pritam|  34|         3| 54000|\n",
            "|Pratham|  45|         5| 23000|\n",
            "| Greece|  65|         3| 13000|\n",
            "| Nebula|  45|         5| 63000|\n",
            "|  Sohan|  32|         3| 52000|\n",
            "|  Mohan|  12|         1| 51000|\n",
            "|Nishant|  14|         2| 64000|\n",
            "|Krishna|  15|         6| 12000|\n",
            "| Kanaha|  16|         7| 31000|\n",
            "|    Sam|  23|         4| 34000|\n",
            "|  Suhan|  35|        23| 54000|\n",
            "|  Levan|  36|        12| 73000|\n",
            "|  Devan|  32|         3| 84000|\n",
            "|   Ryan|  52|        12| 73000|\n",
            "|  Aryan|  21|        11| 75000|\n",
            "|Shubham|  24|         3| 54000|\n",
            "| Deepak|  54|         2| 73000|\n",
            "|   Atul|  23|        21| 43000|\n",
            "| Mayank|  43|         2| 60000|\n",
            "|Shivank|  29|         7| 50000|\n",
            "|   Dtar|  42|         0| 80000|\n",
            "|   Eyon|  13|         3| 98000|\n",
            "|singham|NULL|         9|  NULL|\n",
            "|roberto|  56|        87|  NULL|\n",
            "| johnny|  23|      NULL| 78000|\n",
            "|   NULL|  28|      NULL| 86000|\n",
            "|   NULL|NULL|         8|  NULL|\n",
            "+-------+----+----------+------+\n",
            "\n"
          ]
        }
      ],
      "source": [
        "df_pysparkk.show(35)\n"
      ]
    },
    {
      "cell_type": "code",
      "execution_count": null,
      "metadata": {
        "id": "ykKd9dk2w3nB",
        "colab": {
          "base_uri": "https://localhost:8080/"
        },
        "outputId": "9c09a257-76ad-47c2-824f-5f668c1caf6d"
      },
      "outputs": [
        {
          "output_type": "stream",
          "name": "stdout",
          "text": [
            "+----+----------+------+\n",
            "| Age|Experience|Salary|\n",
            "+----+----------+------+\n",
            "|  23|        12| 30000|\n",
            "|  24|        12| 30000|\n",
            "|  22|         4| 25000|\n",
            "|  34|         1| 32000|\n",
            "|  23|         2| 12000|\n",
            "|  34|         3| 54000|\n",
            "|  45|         5| 23000|\n",
            "|  65|         3| 13000|\n",
            "|  45|         5| 63000|\n",
            "|  32|         3| 52000|\n",
            "|  12|         1| 51000|\n",
            "|  14|         2| 64000|\n",
            "|  15|         6| 12000|\n",
            "|  16|         7| 31000|\n",
            "|  23|         4| 34000|\n",
            "|  35|        23| 54000|\n",
            "|  36|        12| 73000|\n",
            "|  32|         3| 84000|\n",
            "|  52|        12| 73000|\n",
            "|  21|        11| 75000|\n",
            "|  24|         3| 54000|\n",
            "|  54|         2| 73000|\n",
            "|  23|        21| 43000|\n",
            "|  43|         2| 60000|\n",
            "|  29|         7| 50000|\n",
            "|  42|         0| 80000|\n",
            "|  13|         3| 98000|\n",
            "|NULL|         9|  NULL|\n",
            "|  56|        87|  NULL|\n",
            "|  23|      NULL| 78000|\n",
            "|  28|      NULL| 86000|\n",
            "|NULL|         8|  NULL|\n",
            "+----+----------+------+\n",
            "\n"
          ]
        }
      ],
      "source": [
        "df_pysparkk.drop('Name').show(35)"
      ]
    },
    {
      "cell_type": "code",
      "execution_count": null,
      "metadata": {
        "id": "3OJoSO5Uw3ji",
        "colab": {
          "base_uri": "https://localhost:8080/"
        },
        "outputId": "6c87a611-ee02-4695-fa2c-c7fd1ec35d40"
      },
      "outputs": [
        {
          "output_type": "stream",
          "name": "stdout",
          "text": [
            "+-------+----+----------+------+\n",
            "|   Name| Age|Experience|Salary|\n",
            "+-------+----+----------+------+\n",
            "|  Sahil|  23|        12| 30000|\n",
            "|   Golu|  24|        12| 30000|\n",
            "|    Ram|  22|         4| 25000|\n",
            "| Govind|  34|         1| 32000|\n",
            "| Shayam|  23|         2| 12000|\n",
            "| Pritam|  34|         3| 54000|\n",
            "|Pratham|  45|         5| 23000|\n",
            "| Greece|  65|         3| 13000|\n",
            "| Nebula|  45|         5| 63000|\n",
            "|  Sohan|  32|         3| 52000|\n",
            "|  Mohan|  12|         1| 51000|\n",
            "|Nishant|  14|         2| 64000|\n",
            "|Krishna|  15|         6| 12000|\n",
            "| Kanaha|  16|         7| 31000|\n",
            "|    Sam|  23|         4| 34000|\n",
            "|  Suhan|  35|        23| 54000|\n",
            "|  Levan|  36|        12| 73000|\n",
            "|  Devan|  32|         3| 84000|\n",
            "|   Ryan|  52|        12| 73000|\n",
            "|  Aryan|  21|        11| 75000|\n",
            "|Shubham|  24|         3| 54000|\n",
            "| Deepak|  54|         2| 73000|\n",
            "|   Atul|  23|        21| 43000|\n",
            "| Mayank|  43|         2| 60000|\n",
            "|Shivank|  29|         7| 50000|\n",
            "|   Dtar|  42|         0| 80000|\n",
            "|   Eyon|  13|         3| 98000|\n",
            "|singham|NULL|         9|  NULL|\n",
            "|roberto|  56|        87|  NULL|\n",
            "| johnny|  23|      NULL| 78000|\n",
            "|   NULL|  28|      NULL| 86000|\n",
            "|   NULL|NULL|         8|  NULL|\n",
            "+-------+----+----------+------+\n",
            "\n"
          ]
        }
      ],
      "source": [
        "df_pysparkk.show(35)"
      ]
    },
    {
      "cell_type": "code",
      "source": [
        "df_pysparkk.na.fill('Missing Values').show(35)"
      ],
      "metadata": {
        "colab": {
          "base_uri": "https://localhost:8080/"
        },
        "id": "tpix-JS__ZpZ",
        "outputId": "ff0647f6-1826-455c-f8bc-5952d235e458"
      },
      "execution_count": null,
      "outputs": [
        {
          "output_type": "stream",
          "name": "stdout",
          "text": [
            "+--------------+----+----------+------+\n",
            "|          Name| Age|Experience|Salary|\n",
            "+--------------+----+----------+------+\n",
            "|         Sahil|  23|        12| 30000|\n",
            "|          Golu|  24|        12| 30000|\n",
            "|           Ram|  22|         4| 25000|\n",
            "|        Govind|  34|         1| 32000|\n",
            "|        Shayam|  23|         2| 12000|\n",
            "|        Pritam|  34|         3| 54000|\n",
            "|       Pratham|  45|         5| 23000|\n",
            "|        Greece|  65|         3| 13000|\n",
            "|        Nebula|  45|         5| 63000|\n",
            "|         Sohan|  32|         3| 52000|\n",
            "|         Mohan|  12|         1| 51000|\n",
            "|       Nishant|  14|         2| 64000|\n",
            "|       Krishna|  15|         6| 12000|\n",
            "|        Kanaha|  16|         7| 31000|\n",
            "|           Sam|  23|         4| 34000|\n",
            "|         Suhan|  35|        23| 54000|\n",
            "|         Levan|  36|        12| 73000|\n",
            "|         Devan|  32|         3| 84000|\n",
            "|          Ryan|  52|        12| 73000|\n",
            "|         Aryan|  21|        11| 75000|\n",
            "|       Shubham|  24|         3| 54000|\n",
            "|        Deepak|  54|         2| 73000|\n",
            "|          Atul|  23|        21| 43000|\n",
            "|        Mayank|  43|         2| 60000|\n",
            "|       Shivank|  29|         7| 50000|\n",
            "|          Dtar|  42|         0| 80000|\n",
            "|          Eyon|  13|         3| 98000|\n",
            "|       singham|NULL|         9|  NULL|\n",
            "|       roberto|  56|        87|  NULL|\n",
            "|        johnny|  23|      NULL| 78000|\n",
            "|Missing Values|  28|      NULL| 86000|\n",
            "|Missing Values|NULL|         8|  NULL|\n",
            "+--------------+----+----------+------+\n",
            "\n"
          ]
        }
      ]
    },
    {
      "cell_type": "code",
      "source": [
        "df_pysparkk.na.fill('Missing Values',['Name', 'Experience', 'Age', 'Salary']).show(35)"
      ],
      "metadata": {
        "colab": {
          "base_uri": "https://localhost:8080/"
        },
        "id": "xusNQqRWAwV2",
        "outputId": "d24db024-f83c-4737-e870-14ce7cf7e847"
      },
      "execution_count": null,
      "outputs": [
        {
          "output_type": "stream",
          "name": "stdout",
          "text": [
            "+--------------+----+----------+------+\n",
            "|          Name| Age|Experience|Salary|\n",
            "+--------------+----+----------+------+\n",
            "|         Sahil|  23|        12| 30000|\n",
            "|          Golu|  24|        12| 30000|\n",
            "|           Ram|  22|         4| 25000|\n",
            "|        Govind|  34|         1| 32000|\n",
            "|        Shayam|  23|         2| 12000|\n",
            "|        Pritam|  34|         3| 54000|\n",
            "|       Pratham|  45|         5| 23000|\n",
            "|        Greece|  65|         3| 13000|\n",
            "|        Nebula|  45|         5| 63000|\n",
            "|         Sohan|  32|         3| 52000|\n",
            "|         Mohan|  12|         1| 51000|\n",
            "|       Nishant|  14|         2| 64000|\n",
            "|       Krishna|  15|         6| 12000|\n",
            "|        Kanaha|  16|         7| 31000|\n",
            "|           Sam|  23|         4| 34000|\n",
            "|         Suhan|  35|        23| 54000|\n",
            "|         Levan|  36|        12| 73000|\n",
            "|         Devan|  32|         3| 84000|\n",
            "|          Ryan|  52|        12| 73000|\n",
            "|         Aryan|  21|        11| 75000|\n",
            "|       Shubham|  24|         3| 54000|\n",
            "|        Deepak|  54|         2| 73000|\n",
            "|          Atul|  23|        21| 43000|\n",
            "|        Mayank|  43|         2| 60000|\n",
            "|       Shivank|  29|         7| 50000|\n",
            "|          Dtar|  42|         0| 80000|\n",
            "|          Eyon|  13|         3| 98000|\n",
            "|       singham|NULL|         9|  NULL|\n",
            "|       roberto|  56|        87|  NULL|\n",
            "|        johnny|  23|      NULL| 78000|\n",
            "|Missing Values|  28|      NULL| 86000|\n",
            "|Missing Values|NULL|         8|  NULL|\n",
            "+--------------+----+----------+------+\n",
            "\n"
          ]
        }
      ]
    },
    {
      "cell_type": "code",
      "source": [
        "df_pysparkk.show(35)"
      ],
      "metadata": {
        "colab": {
          "base_uri": "https://localhost:8080/"
        },
        "id": "MB5qd_-Qp5V1",
        "outputId": "af89811e-44ee-45f8-b022-f627de8148f8"
      },
      "execution_count": null,
      "outputs": [
        {
          "output_type": "stream",
          "name": "stdout",
          "text": [
            "+-------+----+----------+------+\n",
            "|   Name| Age|Experience|Salary|\n",
            "+-------+----+----------+------+\n",
            "|  Sahil|  23|        12| 30000|\n",
            "|   Golu|  24|        12| 30000|\n",
            "|    Ram|  22|         4| 25000|\n",
            "| Govind|  34|         1| 32000|\n",
            "| Shayam|  23|         2| 12000|\n",
            "| Pritam|  34|         3| 54000|\n",
            "|Pratham|  45|         5| 23000|\n",
            "| Greece|  65|         3| 13000|\n",
            "| Nebula|  45|         5| 63000|\n",
            "|  Sohan|  32|         3| 52000|\n",
            "|  Mohan|  12|         1| 51000|\n",
            "|Nishant|  14|         2| 64000|\n",
            "|Krishna|  15|         6| 12000|\n",
            "| Kanaha|  16|         7| 31000|\n",
            "|    Sam|  23|         4| 34000|\n",
            "|  Suhan|  35|        23| 54000|\n",
            "|  Levan|  36|        12| 73000|\n",
            "|  Devan|  32|         3| 84000|\n",
            "|   Ryan|  52|        12| 73000|\n",
            "|  Aryan|  21|        11| 75000|\n",
            "|Shubham|  24|         3| 54000|\n",
            "| Deepak|  54|         2| 73000|\n",
            "|   Atul|  23|        21| 43000|\n",
            "| Mayank|  43|         2| 60000|\n",
            "|Shivank|  29|         7| 50000|\n",
            "|   Dtar|  42|         0| 80000|\n",
            "|   Eyon|  13|         3| 98000|\n",
            "|singham|NULL|         9|  NULL|\n",
            "|roberto|  56|        87|  NULL|\n",
            "| johnny|  23|      NULL| 78000|\n",
            "|   NULL|  28|      NULL| 86000|\n",
            "|   NULL|NULL|         8|  NULL|\n",
            "+-------+----+----------+------+\n",
            "\n"
          ]
        }
      ]
    },
    {
      "cell_type": "code",
      "source": [
        "from pyspark.ml.feature import Imputer\n",
        "\n",
        "imputer = Imputer(\n",
        "    inputCols = ['Age', 'Experience', 'Salary'],\n",
        "    outputCols = [\"{}_imputed\".format(c) for c in ['Age', 'Experience', 'Salary']]\n",
        "    ).setStrategy(\"mean\")"
      ],
      "metadata": {
        "id": "t0YUz6brp5Sa"
      },
      "execution_count": null,
      "outputs": []
    },
    {
      "cell_type": "code",
      "source": [
        "imputer.fit(df_pysparkk).transform(df_pysparkk).show(35)"
      ],
      "metadata": {
        "colab": {
          "base_uri": "https://localhost:8080/"
        },
        "id": "RGT5Zg24p5QB",
        "outputId": "5dd610a8-5600-45bc-90fa-4418344ae508"
      },
      "execution_count": null,
      "outputs": [
        {
          "output_type": "stream",
          "name": "stdout",
          "text": [
            "+-------+----+----------+------+-----------+------------------+--------------+\n",
            "|   Name| Age|Experience|Salary|Age_imputed|Experience_imputed|Salary_imputed|\n",
            "+-------+----+----------+------+-----------+------------------+--------------+\n",
            "|  Sahil|  23|        12| 30000|         23|                12|         30000|\n",
            "|   Golu|  24|        12| 30000|         24|                12|         30000|\n",
            "|    Ram|  22|         4| 25000|         22|                 4|         25000|\n",
            "| Govind|  34|         1| 32000|         34|                 1|         32000|\n",
            "| Shayam|  23|         2| 12000|         23|                 2|         12000|\n",
            "| Pritam|  34|         3| 54000|         34|                 3|         54000|\n",
            "|Pratham|  45|         5| 23000|         45|                 5|         23000|\n",
            "| Greece|  65|         3| 13000|         65|                 3|         13000|\n",
            "| Nebula|  45|         5| 63000|         45|                 5|         63000|\n",
            "|  Sohan|  32|         3| 52000|         32|                 3|         52000|\n",
            "|  Mohan|  12|         1| 51000|         12|                 1|         51000|\n",
            "|Nishant|  14|         2| 64000|         14|                 2|         64000|\n",
            "|Krishna|  15|         6| 12000|         15|                 6|         12000|\n",
            "| Kanaha|  16|         7| 31000|         16|                 7|         31000|\n",
            "|    Sam|  23|         4| 34000|         23|                 4|         34000|\n",
            "|  Suhan|  35|        23| 54000|         35|                23|         54000|\n",
            "|  Levan|  36|        12| 73000|         36|                12|         73000|\n",
            "|  Devan|  32|         3| 84000|         32|                 3|         84000|\n",
            "|   Ryan|  52|        12| 73000|         52|                12|         73000|\n",
            "|  Aryan|  21|        11| 75000|         21|                11|         75000|\n",
            "|Shubham|  24|         3| 54000|         24|                 3|         54000|\n",
            "| Deepak|  54|         2| 73000|         54|                 2|         73000|\n",
            "|   Atul|  23|        21| 43000|         23|                21|         43000|\n",
            "| Mayank|  43|         2| 60000|         43|                 2|         60000|\n",
            "|Shivank|  29|         7| 50000|         29|                 7|         50000|\n",
            "|   Dtar|  42|         0| 80000|         42|                 0|         80000|\n",
            "|   Eyon|  13|         3| 98000|         13|                 3|         98000|\n",
            "|singham|NULL|         9|  NULL|         31|                 9|         51965|\n",
            "|roberto|  56|        87|  NULL|         56|                87|         51965|\n",
            "| johnny|  23|      NULL| 78000|         23|                 9|         78000|\n",
            "|   NULL|  28|      NULL| 86000|         28|                 9|         86000|\n",
            "|   NULL|NULL|         8|  NULL|         31|                 8|         51965|\n",
            "+-------+----+----------+------+-----------+------------------+--------------+\n",
            "\n"
          ]
        }
      ]
    },
    {
      "cell_type": "markdown",
      "source": [
        "Pyspark Dataframes\n",
        "\n",
        "1:- Filter Operation\n",
        "2:- &,|,==\n",
        "3:- ~"
      ],
      "metadata": {
        "id": "uBcSzeBHreyZ"
      }
    },
    {
      "cell_type": "code",
      "source": [
        "from pyspark.sql import SparkSession\n",
        "spark=SparkSession.builder.appName('dataframe').getOrCreate()"
      ],
      "metadata": {
        "id": "e_gBq5Hqp5NY"
      },
      "execution_count": null,
      "outputs": []
    },
    {
      "cell_type": "code",
      "source": [
        "df_pyspark = spark.read.csv('Test1.csv', header=True, inferSchema=True)\n",
        "df_pyspark.show()"
      ],
      "metadata": {
        "colab": {
          "base_uri": "https://localhost:8080/"
        },
        "id": "QamBXpagsIBU",
        "outputId": "4b89cccd-b753-494b-a443-94a2aa89f6a2"
      },
      "execution_count": null,
      "outputs": [
        {
          "output_type": "stream",
          "name": "stdout",
          "text": [
            "+--------+---+----------+------+\n",
            "|    Name|age|Experience|Salary|\n",
            "+--------+---+----------+------+\n",
            "|  Aryan | 31|        10| 30000|\n",
            "| Singham| 30|         8| 25000|\n",
            "|   Sahil| 23|         5| 20000|\n",
            "| Shivank| 35|         6| 20000|\n",
            "|  Vector| 25|         9| 15000|\n",
            "|   Karan| 27|         7| 18000|\n",
            "|   Kumar| 23|        12| 40000|\n",
            "|Tripathi| 19|        17| 55000|\n",
            "|   Arjun| 32|        20| 60000|\n",
            "|    Bhim| 52|         9| 30000|\n",
            "|  Shayam| 32|         1| 20000|\n",
            "|     Ram| 29|         2| 90000|\n",
            "+--------+---+----------+------+\n",
            "\n"
          ]
        }
      ]
    },
    {
      "cell_type": "code",
      "source": [
        "### Filter Operations\n",
        "### Salary of the people less than or equal to 20000\n",
        "df_pyspark.filter(\"Salary<=20000\").show()"
      ],
      "metadata": {
        "colab": {
          "base_uri": "https://localhost:8080/"
        },
        "id": "yQ0mbkUssH89",
        "outputId": "69c41ba4-e197-4eb5-cc5c-0666cbdcd832"
      },
      "execution_count": null,
      "outputs": [
        {
          "output_type": "stream",
          "name": "stdout",
          "text": [
            "+-------+---+----------+------+\n",
            "|   Name|age|Experience|Salary|\n",
            "+-------+---+----------+------+\n",
            "|  Sahil| 23|         5| 20000|\n",
            "|Shivank| 35|         6| 20000|\n",
            "| Vector| 25|         9| 15000|\n",
            "|  Karan| 27|         7| 18000|\n",
            "| Shayam| 32|         1| 20000|\n",
            "+-------+---+----------+------+\n",
            "\n"
          ]
        }
      ]
    },
    {
      "cell_type": "code",
      "source": [
        "df_pyspark.filter(\"Salary<=20000\").select(['Name', 'Age']).show()"
      ],
      "metadata": {
        "colab": {
          "base_uri": "https://localhost:8080/"
        },
        "id": "w71OzSj7sH7F",
        "outputId": "53273e92-a540-4269-c95d-9ba536d33113"
      },
      "execution_count": null,
      "outputs": [
        {
          "output_type": "stream",
          "name": "stdout",
          "text": [
            "+-------+---+\n",
            "|   Name|Age|\n",
            "+-------+---+\n",
            "|  Sahil| 23|\n",
            "|Shivank| 35|\n",
            "| Vector| 25|\n",
            "|  Karan| 27|\n",
            "| Shayam| 32|\n",
            "+-------+---+\n",
            "\n"
          ]
        }
      ]
    },
    {
      "cell_type": "code",
      "source": [
        "df_pyspark.filter((df_pyspark['Salary']>=20000) & (df_pyspark['Salary']>=15000)).show()"
      ],
      "metadata": {
        "colab": {
          "base_uri": "https://localhost:8080/"
        },
        "id": "OjNVGUhcsH4y",
        "outputId": "dbce185e-80c0-4703-9274-ea1cb8b21393"
      },
      "execution_count": null,
      "outputs": [
        {
          "output_type": "stream",
          "name": "stdout",
          "text": [
            "+--------+---+----------+------+\n",
            "|    Name|age|Experience|Salary|\n",
            "+--------+---+----------+------+\n",
            "|  Aryan | 31|        10| 30000|\n",
            "| Singham| 30|         8| 25000|\n",
            "|   Sahil| 23|         5| 20000|\n",
            "| Shivank| 35|         6| 20000|\n",
            "|   Kumar| 23|        12| 40000|\n",
            "|Tripathi| 19|        17| 55000|\n",
            "|   Arjun| 32|        20| 60000|\n",
            "|    Bhim| 52|         9| 30000|\n",
            "|  Shayam| 32|         1| 20000|\n",
            "|     Ram| 29|         2| 90000|\n",
            "+--------+---+----------+------+\n",
            "\n"
          ]
        }
      ]
    },
    {
      "cell_type": "code",
      "source": [
        "df_pyspark.filter((df_pyspark['Salary']>=20000) & (df_pyspark['Salary']<=40000)).show()"
      ],
      "metadata": {
        "colab": {
          "base_uri": "https://localhost:8080/"
        },
        "id": "2do_bwThsH2R",
        "outputId": "1d243b9a-3293-4a20-f96d-25b5174230a1"
      },
      "execution_count": null,
      "outputs": [
        {
          "output_type": "stream",
          "name": "stdout",
          "text": [
            "+-------+---+----------+------+\n",
            "|   Name|age|Experience|Salary|\n",
            "+-------+---+----------+------+\n",
            "| Aryan | 31|        10| 30000|\n",
            "|Singham| 30|         8| 25000|\n",
            "|  Sahil| 23|         5| 20000|\n",
            "|Shivank| 35|         6| 20000|\n",
            "|  Kumar| 23|        12| 40000|\n",
            "|   Bhim| 52|         9| 30000|\n",
            "| Shayam| 32|         1| 20000|\n",
            "+-------+---+----------+------+\n",
            "\n"
          ]
        }
      ]
    },
    {
      "cell_type": "code",
      "source": [
        "df_pyspark.filter((df_pyspark['Salary']>=20000) | (df_pyspark['Salary']<=40000)).show()"
      ],
      "metadata": {
        "colab": {
          "base_uri": "https://localhost:8080/"
        },
        "id": "jfO5BP_pp5Km",
        "outputId": "5d188b74-a71b-4206-9b6e-d0a20c1a818b"
      },
      "execution_count": null,
      "outputs": [
        {
          "output_type": "stream",
          "name": "stdout",
          "text": [
            "+--------+---+----------+------+\n",
            "|    Name|age|Experience|Salary|\n",
            "+--------+---+----------+------+\n",
            "|  Aryan | 31|        10| 30000|\n",
            "| Singham| 30|         8| 25000|\n",
            "|   Sahil| 23|         5| 20000|\n",
            "| Shivank| 35|         6| 20000|\n",
            "|  Vector| 25|         9| 15000|\n",
            "|   Karan| 27|         7| 18000|\n",
            "|   Kumar| 23|        12| 40000|\n",
            "|Tripathi| 19|        17| 55000|\n",
            "|   Arjun| 32|        20| 60000|\n",
            "|    Bhim| 52|         9| 30000|\n",
            "|  Shayam| 32|         1| 20000|\n",
            "|     Ram| 29|         2| 90000|\n",
            "+--------+---+----------+------+\n",
            "\n"
          ]
        }
      ]
    },
    {
      "cell_type": "code",
      "source": [
        "df_pyspark.filter(~(df_pyspark['Salary']<=20000)).show()"
      ],
      "metadata": {
        "colab": {
          "base_uri": "https://localhost:8080/"
        },
        "id": "-KpJoc6tp48d",
        "outputId": "4194d10c-dfdf-4adf-a14a-81da98c4b993"
      },
      "execution_count": null,
      "outputs": [
        {
          "output_type": "stream",
          "name": "stdout",
          "text": [
            "+--------+---+----------+------+\n",
            "|    Name|age|Experience|Salary|\n",
            "+--------+---+----------+------+\n",
            "|  Aryan | 31|        10| 30000|\n",
            "| Singham| 30|         8| 25000|\n",
            "|   Kumar| 23|        12| 40000|\n",
            "|Tripathi| 19|        17| 55000|\n",
            "|   Arjun| 32|        20| 60000|\n",
            "|    Bhim| 52|         9| 30000|\n",
            "|     Ram| 29|         2| 90000|\n",
            "+--------+---+----------+------+\n",
            "\n"
          ]
        }
      ]
    },
    {
      "cell_type": "markdown",
      "source": [
        "Tutorial 5 now\n"
      ],
      "metadata": {
        "id": "8I-gZRMWxA1J"
      }
    },
    {
      "cell_type": "code",
      "source": [
        "from pyspark.sql import SparkSession\n",
        "spark = SparkSession.builder.appName('Agg').getOrCreate()"
      ],
      "metadata": {
        "id": "Ti1I2UujxAXP"
      },
      "execution_count": null,
      "outputs": []
    },
    {
      "cell_type": "code",
      "source": [
        "spark"
      ],
      "metadata": {
        "id": "gCDRa1mZxAT8",
        "colab": {
          "base_uri": "https://localhost:8080/",
          "height": 219
        },
        "outputId": "9ae3856b-0b8e-4c9b-b108-9a05fca17054"
      },
      "execution_count": null,
      "outputs": [
        {
          "output_type": "execute_result",
          "data": {
            "text/plain": [
              "<pyspark.sql.session.SparkSession at 0x78b3e31ec950>"
            ],
            "text/html": [
              "\n",
              "            <div>\n",
              "                <p><b>SparkSession - in-memory</b></p>\n",
              "                \n",
              "        <div>\n",
              "            <p><b>SparkContext</b></p>\n",
              "\n",
              "            <p><a href=\"http://459f8d13f399:4040\">Spark UI</a></p>\n",
              "\n",
              "            <dl>\n",
              "              <dt>Version</dt>\n",
              "                <dd><code>v3.5.1</code></dd>\n",
              "              <dt>Master</dt>\n",
              "                <dd><code>local[*]</code></dd>\n",
              "              <dt>AppName</dt>\n",
              "                <dd><code>Practise</code></dd>\n",
              "            </dl>\n",
              "        </div>\n",
              "        \n",
              "            </div>\n",
              "        "
            ]
          },
          "metadata": {},
          "execution_count": 55
        }
      ]
    },
    {
      "cell_type": "code",
      "source": [
        "df_pyyspark=spark.read.csv('NewData1.csv', header=True, inferSchema=True)"
      ],
      "metadata": {
        "id": "WNa_TTZbxASC"
      },
      "execution_count": null,
      "outputs": []
    },
    {
      "cell_type": "code",
      "source": [
        "df_pyyspark.show()"
      ],
      "metadata": {
        "id": "PoCnlLXXxAPu",
        "colab": {
          "base_uri": "https://localhost:8080/"
        },
        "outputId": "510e51f8-d853-4ce1-cfd3-b2f764d34304"
      },
      "execution_count": null,
      "outputs": [
        {
          "output_type": "stream",
          "name": "stdout",
          "text": [
            "+---------+-----------+------+\n",
            "|     Name|Departments|salary|\n",
            "+---------+-----------+------+\n",
            "|    Aryan|        IOT| 10000|\n",
            "|    Aryan|         ML| 20000|\n",
            "|    Sahil|         AI| 14000|\n",
            "|    Sahil|        IOT|320000|\n",
            "|     Sonu|        CSE|420000|\n",
            "| Shashank|        IOT| 32300|\n",
            "|Sudhanshu|     Python| 23000|\n",
            "|     Sonu|    Machine|123000|\n",
            "|Sudhanshu| Developers| 53000|\n",
            "|   Sundar|        IOT| 98000|\n",
            "|    Aryan|         ML|910000|\n",
            "|   Sundar|         AI|434000|\n",
            "| Shashank|        CSE| 32000|\n",
            "+---------+-----------+------+\n",
            "\n"
          ]
        }
      ]
    },
    {
      "cell_type": "code",
      "source": [
        "df_pyyspark.printSchema()"
      ],
      "metadata": {
        "id": "PRiJZDQ1xANO",
        "colab": {
          "base_uri": "https://localhost:8080/"
        },
        "outputId": "9ae1480b-e1fb-4cf7-fed5-b47f5fecc230"
      },
      "execution_count": null,
      "outputs": [
        {
          "output_type": "stream",
          "name": "stdout",
          "text": [
            "root\n",
            " |-- Name: string (nullable = true)\n",
            " |-- Departments: string (nullable = true)\n",
            " |-- salary: integer (nullable = true)\n",
            "\n"
          ]
        }
      ]
    },
    {
      "cell_type": "code",
      "source": [
        "###Groupby\n",
        "df_pyyspark.groupBy('Name').sum().show()"
      ],
      "metadata": {
        "id": "UGmCuUwOxAK5",
        "colab": {
          "base_uri": "https://localhost:8080/"
        },
        "outputId": "40b6db5c-168e-4819-f573-ba650001e2a1"
      },
      "execution_count": null,
      "outputs": [
        {
          "output_type": "stream",
          "name": "stdout",
          "text": [
            "+---------+-----------+\n",
            "|     Name|sum(salary)|\n",
            "+---------+-----------+\n",
            "|    Aryan|     940000|\n",
            "|    Sahil|     334000|\n",
            "|   Sundar|     532000|\n",
            "|Sudhanshu|      76000|\n",
            "| Shashank|      64300|\n",
            "|     Sonu|     543000|\n",
            "+---------+-----------+\n",
            "\n"
          ]
        }
      ]
    },
    {
      "cell_type": "code",
      "source": [
        "df_pyyspark.groupBy('Departments').sum().show()"
      ],
      "metadata": {
        "id": "xdM06Fa4xAGL",
        "colab": {
          "base_uri": "https://localhost:8080/"
        },
        "outputId": "49e927d1-611e-4eb4-92f4-6f0062455533"
      },
      "execution_count": null,
      "outputs": [
        {
          "output_type": "stream",
          "name": "stdout",
          "text": [
            "+-----------+-----------+\n",
            "|Departments|sum(salary)|\n",
            "+-----------+-----------+\n",
            "|        IOT|     460300|\n",
            "| Developers|      53000|\n",
            "|         AI|     448000|\n",
            "|        CSE|     452000|\n",
            "|    Machine|     123000|\n",
            "|     Python|      23000|\n",
            "|         ML|     930000|\n",
            "+-----------+-----------+\n",
            "\n"
          ]
        }
      ]
    },
    {
      "cell_type": "code",
      "source": [
        "df_pyyspark.groupBy('Departments').count().show()"
      ],
      "metadata": {
        "id": "t6CRAUxPxADz",
        "colab": {
          "base_uri": "https://localhost:8080/"
        },
        "outputId": "734311bc-f94b-4d37-f166-b64b737089f3"
      },
      "execution_count": null,
      "outputs": [
        {
          "output_type": "stream",
          "name": "stdout",
          "text": [
            "+-----------+-----+\n",
            "|Departments|count|\n",
            "+-----------+-----+\n",
            "|        IOT|    4|\n",
            "| Developers|    1|\n",
            "|         AI|    2|\n",
            "|        CSE|    2|\n",
            "|    Machine|    1|\n",
            "|     Python|    1|\n",
            "|         ML|    2|\n",
            "+-----------+-----+\n",
            "\n"
          ]
        }
      ]
    },
    {
      "cell_type": "code",
      "source": [
        "df_pyyspark.agg({'Salary':'sum'}).show()"
      ],
      "metadata": {
        "id": "C17boPDAxABc",
        "colab": {
          "base_uri": "https://localhost:8080/"
        },
        "outputId": "a88235b9-d276-42ee-8bef-341e812b1fd9"
      },
      "execution_count": null,
      "outputs": [
        {
          "output_type": "stream",
          "name": "stdout",
          "text": [
            "+-----------+\n",
            "|sum(Salary)|\n",
            "+-----------+\n",
            "|    2489300|\n",
            "+-----------+\n",
            "\n"
          ]
        }
      ]
    },
    {
      "cell_type": "code",
      "source": [
        "df_pyyspark.groupBy('Name').max().show()"
      ],
      "metadata": {
        "id": "_6Fuxh_Mw__C",
        "colab": {
          "base_uri": "https://localhost:8080/"
        },
        "outputId": "d16dbfdc-9171-46b0-ae1a-0b1b61849fa0"
      },
      "execution_count": null,
      "outputs": [
        {
          "output_type": "stream",
          "name": "stdout",
          "text": [
            "+---------+-----------+\n",
            "|     Name|max(salary)|\n",
            "+---------+-----------+\n",
            "|    Aryan|     910000|\n",
            "|    Sahil|     320000|\n",
            "|   Sundar|     434000|\n",
            "|Sudhanshu|      53000|\n",
            "| Shashank|      32300|\n",
            "|     Sonu|     420000|\n",
            "+---------+-----------+\n",
            "\n"
          ]
        }
      ]
    },
    {
      "cell_type": "code",
      "source": [
        "df_pyyspark.groupBy('Name').min().show()"
      ],
      "metadata": {
        "id": "CEBlydZNw_8f",
        "colab": {
          "base_uri": "https://localhost:8080/"
        },
        "outputId": "6c37ff9e-6a25-479f-d019-c3aae28667cb"
      },
      "execution_count": null,
      "outputs": [
        {
          "output_type": "stream",
          "name": "stdout",
          "text": [
            "+---------+-----------+\n",
            "|     Name|min(salary)|\n",
            "+---------+-----------+\n",
            "|    Aryan|      10000|\n",
            "|    Sahil|      14000|\n",
            "|   Sundar|      98000|\n",
            "|Sudhanshu|      23000|\n",
            "| Shashank|      32000|\n",
            "|     Sonu|     123000|\n",
            "+---------+-----------+\n",
            "\n"
          ]
        }
      ]
    },
    {
      "cell_type": "code",
      "source": [
        "df_pyyspark.groupBy('Name').avg().show()"
      ],
      "metadata": {
        "colab": {
          "base_uri": "https://localhost:8080/"
        },
        "id": "UUz2Ltp71Wsg",
        "outputId": "50a6789e-84e6-40d1-dc13-e46a3edaeb11"
      },
      "execution_count": null,
      "outputs": [
        {
          "output_type": "stream",
          "name": "stdout",
          "text": [
            "+---------+-----------------+\n",
            "|     Name|      avg(salary)|\n",
            "+---------+-----------------+\n",
            "|    Aryan|313333.3333333333|\n",
            "|    Sahil|         167000.0|\n",
            "|   Sundar|         266000.0|\n",
            "|Sudhanshu|          38000.0|\n",
            "| Shashank|          32150.0|\n",
            "|     Sonu|         271500.0|\n",
            "+---------+-----------------+\n",
            "\n"
          ]
        }
      ]
    },
    {
      "cell_type": "code",
      "source": [
        "from pyspark.sql import SparkSession\n",
        "spark = SparkSession.builder.appName('Missing').getOrCreate()"
      ],
      "metadata": {
        "id": "1rH286NTe7Vf"
      },
      "execution_count": null,
      "outputs": []
    },
    {
      "cell_type": "code",
      "source": [
        "training = spark.read.csv('asitis.csv', header=True, inferSchema=True)"
      ],
      "metadata": {
        "id": "_peAPDqte7SG"
      },
      "execution_count": null,
      "outputs": []
    },
    {
      "cell_type": "code",
      "source": [
        "training.show()"
      ],
      "metadata": {
        "colab": {
          "base_uri": "https://localhost:8080/"
        },
        "id": "kG-JSK-0e7Qb",
        "outputId": "5d5faacc-610c-4cc2-9c51-9c3a96ad0ae8"
      },
      "execution_count": null,
      "outputs": [
        {
          "output_type": "stream",
          "name": "stdout",
          "text": [
            "+------+---+----------+------+\n",
            "| Name |age|Experience|Salary|\n",
            "+------+---+----------+------+\n",
            "| Aryan| 31|        10| 30000|\n",
            "| Krish| 30|         8| 25000|\n",
            "| Sahil| 29|         4| 20000|\n",
            "| Sunny| 24|         3| 20000|\n",
            "|  Paul| 21|         1| 15000|\n",
            "|Harsha| 23|         2| 18000|\n",
            "+------+---+----------+------+\n",
            "\n"
          ]
        }
      ]
    },
    {
      "cell_type": "code",
      "source": [
        "training.printSchema()"
      ],
      "metadata": {
        "colab": {
          "base_uri": "https://localhost:8080/"
        },
        "id": "ZPaNoX0ze7N0",
        "outputId": "b099cd08-2870-42d7-96b7-73af1d434782"
      },
      "execution_count": null,
      "outputs": [
        {
          "output_type": "stream",
          "name": "stdout",
          "text": [
            "root\n",
            " |-- Name : string (nullable = true)\n",
            " |-- age: integer (nullable = true)\n",
            " |-- Experience: integer (nullable = true)\n",
            " |-- Salary: integer (nullable = true)\n",
            "\n"
          ]
        }
      ]
    },
    {
      "cell_type": "code",
      "source": [
        "training.columns"
      ],
      "metadata": {
        "colab": {
          "base_uri": "https://localhost:8080/"
        },
        "id": "3_vbKkyFe7Lg",
        "outputId": "8935f343-27a2-45e0-cefa-1ab3b3dabd8c"
      },
      "execution_count": null,
      "outputs": [
        {
          "output_type": "execute_result",
          "data": {
            "text/plain": [
              "['Name ', 'age', 'Experience', 'Salary']"
            ]
          },
          "metadata": {},
          "execution_count": 70
        }
      ]
    },
    {
      "cell_type": "code",
      "source": [
        "from pyspark.ml.feature import VectorAssembler\n",
        "featureassembler=VectorAssembler(inputCols=[\"age\",\"Experience\"],outputCol=\"Independent Features\")"
      ],
      "metadata": {
        "id": "U_y58zxUe7DZ"
      },
      "execution_count": null,
      "outputs": []
    },
    {
      "cell_type": "code",
      "source": [
        "output=featureassembler.transform(training)"
      ],
      "metadata": {
        "id": "lv9hs3b3e6_t"
      },
      "execution_count": null,
      "outputs": []
    },
    {
      "cell_type": "code",
      "source": [
        "output.show()"
      ],
      "metadata": {
        "colab": {
          "base_uri": "https://localhost:8080/"
        },
        "id": "ngsjhBgKe69b",
        "outputId": "0dfd16c1-43d9-4d69-ef4b-65e1a46784cd"
      },
      "execution_count": null,
      "outputs": [
        {
          "output_type": "stream",
          "name": "stdout",
          "text": [
            "+------+---+----------+------+--------------------+\n",
            "| Name |age|Experience|Salary|Independent Features|\n",
            "+------+---+----------+------+--------------------+\n",
            "| Aryan| 31|        10| 30000|         [31.0,10.0]|\n",
            "| Krish| 30|         8| 25000|          [30.0,8.0]|\n",
            "| Sahil| 29|         4| 20000|          [29.0,4.0]|\n",
            "| Sunny| 24|         3| 20000|          [24.0,3.0]|\n",
            "|  Paul| 21|         1| 15000|          [21.0,1.0]|\n",
            "|Harsha| 23|         2| 18000|          [23.0,2.0]|\n",
            "+------+---+----------+------+--------------------+\n",
            "\n"
          ]
        }
      ]
    },
    {
      "cell_type": "code",
      "source": [
        "output.columns"
      ],
      "metadata": {
        "colab": {
          "base_uri": "https://localhost:8080/"
        },
        "id": "qrfeitU3gxFa",
        "outputId": "bd4fa359-08eb-4a4a-868f-1ae2fddf3e8f"
      },
      "execution_count": null,
      "outputs": [
        {
          "output_type": "execute_result",
          "data": {
            "text/plain": [
              "['Name ', 'age', 'Experience', 'Salary', 'Independent Features']"
            ]
          },
          "metadata": {},
          "execution_count": 74
        }
      ]
    },
    {
      "cell_type": "code",
      "source": [
        "finalized_data=output.select(\"Independent Features\", \"Salary\")"
      ],
      "metadata": {
        "id": "Fz4R6YpRgxCG"
      },
      "execution_count": null,
      "outputs": []
    },
    {
      "cell_type": "code",
      "source": [
        "finalized_data.show()"
      ],
      "metadata": {
        "colab": {
          "base_uri": "https://localhost:8080/"
        },
        "id": "_0dFYUIfgw67",
        "outputId": "6119caff-22f6-415c-f7db-204b09ffb60d"
      },
      "execution_count": null,
      "outputs": [
        {
          "output_type": "stream",
          "name": "stdout",
          "text": [
            "+--------------------+------+\n",
            "|Independent Features|Salary|\n",
            "+--------------------+------+\n",
            "|         [31.0,10.0]| 30000|\n",
            "|          [30.0,8.0]| 25000|\n",
            "|          [29.0,4.0]| 20000|\n",
            "|          [24.0,3.0]| 20000|\n",
            "|          [21.0,1.0]| 15000|\n",
            "|          [23.0,2.0]| 18000|\n",
            "+--------------------+------+\n",
            "\n"
          ]
        }
      ]
    },
    {
      "cell_type": "code",
      "source": [
        "from pyspark.ml.regression import LinearRegression\n",
        "train_data, test_data = finalized_data.randomSplit([0.75,0.25])\n",
        "regressor=LinearRegression(featuresCol=\"Independent Features\", labelCol=\"Salary\")\n",
        "regressor=regressor.fit(train_data)"
      ],
      "metadata": {
        "id": "UxFiWLM_gw3X"
      },
      "execution_count": null,
      "outputs": []
    },
    {
      "cell_type": "code",
      "source": [
        "regressor.coefficients"
      ],
      "metadata": {
        "id": "fb-FTBl_gw1E",
        "colab": {
          "base_uri": "https://localhost:8080/"
        },
        "outputId": "daefbfa4-6674-4c60-f7f6-3e77e7be6659"
      },
      "execution_count": 80,
      "outputs": [
        {
          "output_type": "execute_result",
          "data": {
            "text/plain": [
              "DenseVector([172.4138, 1206.8966])"
            ]
          },
          "metadata": {},
          "execution_count": 80
        }
      ]
    },
    {
      "cell_type": "code",
      "source": [
        "regressor.intercept"
      ],
      "metadata": {
        "colab": {
          "base_uri": "https://localhost:8080/"
        },
        "id": "ZmV_GVjon8zZ",
        "outputId": "ddee33a4-6614-4706-d52e-7771d427b012"
      },
      "execution_count": 81,
      "outputs": [
        {
          "output_type": "execute_result",
          "data": {
            "text/plain": [
              "10172.413793103533"
            ]
          },
          "metadata": {},
          "execution_count": 81
        }
      ]
    },
    {
      "cell_type": "code",
      "source": [
        "pred_results=regressor.evaluate(test_data)"
      ],
      "metadata": {
        "id": "Pw-NDSy2n8v9"
      },
      "execution_count": 82,
      "outputs": []
    },
    {
      "cell_type": "code",
      "source": [
        "pred_results.predictions.show()"
      ],
      "metadata": {
        "colab": {
          "base_uri": "https://localhost:8080/"
        },
        "id": "TEsrqX3nn8tm",
        "outputId": "d2ac998f-4dea-49d4-ac92-c1b58cd08fe5"
      },
      "execution_count": 83,
      "outputs": [
        {
          "output_type": "stream",
          "name": "stdout",
          "text": [
            "+--------------------+------+------------------+\n",
            "|Independent Features|Salary|        prediction|\n",
            "+--------------------+------+------------------+\n",
            "|          [23.0,2.0]| 18000| 16551.72413793104|\n",
            "|          [24.0,3.0]| 20000|17931.034482758627|\n",
            "|         [31.0,10.0]| 30000| 27586.20689655173|\n",
            "+--------------------+------+------------------+\n",
            "\n"
          ]
        }
      ]
    },
    {
      "cell_type": "code",
      "source": [
        "pred_results.meanAbsoluteError,pred_results.meanSquaredError"
      ],
      "metadata": {
        "colab": {
          "base_uri": "https://localhost:8080/"
        },
        "id": "iEXY9V9cn8rG",
        "outputId": "f09036af-05e2-4060-80e1-7189c8171c20"
      },
      "execution_count": 84,
      "outputs": [
        {
          "output_type": "execute_result",
          "data": {
            "text/plain": [
              "(1977.0114942528683, 4068172.8101466303)"
            ]
          },
          "metadata": {},
          "execution_count": 84
        }
      ]
    },
    {
      "cell_type": "code",
      "source": [],
      "metadata": {
        "id": "piz3EA9gn8o1"
      },
      "execution_count": null,
      "outputs": []
    }
  ],
  "metadata": {
    "colab": {
      "provenance": []
    },
    "kernelspec": {
      "display_name": "Python 3",
      "name": "python3"
    },
    "language_info": {
      "name": "python"
    }
  },
  "nbformat": 4,
  "nbformat_minor": 0
}