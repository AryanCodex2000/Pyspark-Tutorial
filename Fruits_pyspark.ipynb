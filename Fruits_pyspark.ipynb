{
  "nbformat": 4,
  "nbformat_minor": 0,
  "metadata": {
    "colab": {
      "provenance": []
    },
    "kernelspec": {
      "name": "python3",
      "display_name": "Python 3"
    },
    "language_info": {
      "name": "python"
    }
  },
  "cells": [
    {
      "cell_type": "code",
      "execution_count": 4,
      "metadata": {
        "id": "6-IxOuS7nr7Z"
      },
      "outputs": [],
      "source": [
        "from pyspark.sql import SparkSession\n",
        "spark = SparkSession.builder.appName(\"MyFirstPySpark\").getOrCreate()"
      ]
    },
    {
      "cell_type": "code",
      "source": [
        "data = [(\"Apple\", 5), (\"Banana\", 343), (\"Orange\", 9)]\n",
        "columns = [\"Fruit\", \"Count\"]\n",
        "fruit_box = spark.createDataFrame(data, columns)\n",
        "fruit_box.show()"
      ],
      "metadata": {
        "colab": {
          "base_uri": "https://localhost:8080/"
        },
        "id": "HN2UNm0npNrK",
        "outputId": "63757c90-7772-4297-8f48-49590c4ac730"
      },
      "execution_count": 5,
      "outputs": [
        {
          "output_type": "stream",
          "name": "stdout",
          "text": [
            "+------+-----+\n",
            "| Fruit|Count|\n",
            "+------+-----+\n",
            "| Apple|    5|\n",
            "|Banana|  343|\n",
            "|Orange|    9|\n",
            "+------+-----+\n",
            "\n"
          ]
        }
      ]
    },
    {
      "cell_type": "code",
      "source": [
        "fruit_box.select(\"Fruit\").show()"
      ],
      "metadata": {
        "colab": {
          "base_uri": "https://localhost:8080/"
        },
        "id": "0AbeRq5VpNnu",
        "outputId": "08d46897-485e-4108-9ac1-93451416a273"
      },
      "execution_count": 6,
      "outputs": [
        {
          "output_type": "stream",
          "name": "stdout",
          "text": [
            "+------+\n",
            "| Fruit|\n",
            "+------+\n",
            "| Apple|\n",
            "|Banana|\n",
            "|Orange|\n",
            "+------+\n",
            "\n"
          ]
        }
      ]
    },
    {
      "cell_type": "code",
      "source": [
        "fruit_box.select(\"Count\").show()"
      ],
      "metadata": {
        "colab": {
          "base_uri": "https://localhost:8080/"
        },
        "id": "wWvLb4BFpNl5",
        "outputId": "f7137f73-a80c-41e3-f5cb-c4dfd2acb429"
      },
      "execution_count": 7,
      "outputs": [
        {
          "output_type": "stream",
          "name": "stdout",
          "text": [
            "+-----+\n",
            "|Count|\n",
            "+-----+\n",
            "|    5|\n",
            "|  343|\n",
            "|    9|\n",
            "+-----+\n",
            "\n"
          ]
        }
      ]
    },
    {
      "cell_type": "code",
      "source": [
        "fruit_box.filter(fruit_box[\"Count\"] > 234).show()"
      ],
      "metadata": {
        "colab": {
          "base_uri": "https://localhost:8080/"
        },
        "id": "fo523vvHpNjk",
        "outputId": "3e1d19fd-8aa6-4c17-f053-a5700015b82b"
      },
      "execution_count": 8,
      "outputs": [
        {
          "output_type": "stream",
          "name": "stdout",
          "text": [
            "+------+-----+\n",
            "| Fruit|Count|\n",
            "+------+-----+\n",
            "|Banana|  343|\n",
            "+------+-----+\n",
            "\n"
          ]
        }
      ]
    },
    {
      "cell_type": "code",
      "source": [
        "from pyspark.sql.functions import when\n",
        "fruit_box = fruit_box.withColumn(\"IsPopular\", when(fruit_box[\"Count\"] > 5, \"Yes\").otherwise(\"No\"))\n",
        "fruit_box = fruit_box.withColumn(\"Cost per fruit\", when(fruit_box[\"Fruit\"] == \"Apple\", \"20$\").when(fruit_box[\"Fruit\"] == \"Banana\", \"30$\").when(fruit_box[\"Fruit\"] == \"Orange\", \"10$\"). otherwise(\"No\"))\n",
        "fruit_box.show()"
      ],
      "metadata": {
        "colab": {
          "base_uri": "https://localhost:8080/"
        },
        "id": "K1qiTpnDpNha",
        "outputId": "e54747ee-ea24-487f-ba7b-4a1d0ba76f40"
      },
      "execution_count": 9,
      "outputs": [
        {
          "output_type": "stream",
          "name": "stdout",
          "text": [
            "+------+-----+---------+--------------+\n",
            "| Fruit|Count|IsPopular|Cost per fruit|\n",
            "+------+-----+---------+--------------+\n",
            "| Apple|    5|       No|           20$|\n",
            "|Banana|  343|      Yes|           30$|\n",
            "|Orange|    9|      Yes|           10$|\n",
            "+------+-----+---------+--------------+\n",
            "\n"
          ]
        }
      ]
    },
    {
      "cell_type": "code",
      "source": [
        "### Now lets practise on the data set provided\n",
        "df = spark.read.csv(\"fruits.csv\", header=True, inferSchema=True)\n",
        "df.show()"
      ],
      "metadata": {
        "colab": {
          "base_uri": "https://localhost:8080/"
        },
        "id": "5Smv_eKtpNe3",
        "outputId": "25702de7-a703-45b2-fa89-87384c062c0e"
      },
      "execution_count": 10,
      "outputs": [
        {
          "output_type": "stream",
          "name": "stdout",
          "text": [
            "+----+-------------+-----+\n",
            "|S.no|        Fruit|Count|\n",
            "+----+-------------+-----+\n",
            "|   1|        Apple|    5|\n",
            "|   2|        Mango|    6|\n",
            "|   3|       Banana|    3|\n",
            "|   4|       Cherry|    7|\n",
            "|   5|Straw berries|    5|\n",
            "|   6|       Orange|    9|\n",
            "|   7|       Grapes|    7|\n",
            "|   8|  BlueBerries|    8|\n",
            "|   9|         Kiwi|   23|\n",
            "|  10|       Leechi|    5|\n",
            "+----+-------------+-----+\n",
            "\n"
          ]
        }
      ]
    },
    {
      "cell_type": "code",
      "source": [
        "df.select(\"Fruit\").show()\n",
        "df.select(\"Count\").show()\n"
      ],
      "metadata": {
        "colab": {
          "base_uri": "https://localhost:8080/"
        },
        "id": "rqmuZuD_pNct",
        "outputId": "2a2f3585-803f-457c-95aa-6764db2c3149"
      },
      "execution_count": 11,
      "outputs": [
        {
          "output_type": "stream",
          "name": "stdout",
          "text": [
            "+-------------+\n",
            "|        Fruit|\n",
            "+-------------+\n",
            "|        Apple|\n",
            "|        Mango|\n",
            "|       Banana|\n",
            "|       Cherry|\n",
            "|Straw berries|\n",
            "|       Orange|\n",
            "|       Grapes|\n",
            "|  BlueBerries|\n",
            "|         Kiwi|\n",
            "|       Leechi|\n",
            "+-------------+\n",
            "\n",
            "+-----+\n",
            "|Count|\n",
            "+-----+\n",
            "|    5|\n",
            "|    6|\n",
            "|    3|\n",
            "|    7|\n",
            "|    5|\n",
            "|    9|\n",
            "|    7|\n",
            "|    8|\n",
            "|   23|\n",
            "|    5|\n",
            "+-----+\n",
            "\n"
          ]
        }
      ]
    },
    {
      "cell_type": "code",
      "source": [
        "df.filter(df[\"Count\"]>10).show()\n",
        "df.filter(df[\"Count\"]>4).show()\n",
        "df.filter(df[\"Count\"]<5).show()"
      ],
      "metadata": {
        "colab": {
          "base_uri": "https://localhost:8080/"
        },
        "id": "woVOMDbppNao",
        "outputId": "ce07434e-fdef-4763-ec79-aab3dd1a005b"
      },
      "execution_count": 12,
      "outputs": [
        {
          "output_type": "stream",
          "name": "stdout",
          "text": [
            "+----+-----+-----+\n",
            "|S.no|Fruit|Count|\n",
            "+----+-----+-----+\n",
            "|   9| Kiwi|   23|\n",
            "+----+-----+-----+\n",
            "\n",
            "+----+-------------+-----+\n",
            "|S.no|        Fruit|Count|\n",
            "+----+-------------+-----+\n",
            "|   1|        Apple|    5|\n",
            "|   2|        Mango|    6|\n",
            "|   4|       Cherry|    7|\n",
            "|   5|Straw berries|    5|\n",
            "|   6|       Orange|    9|\n",
            "|   7|       Grapes|    7|\n",
            "|   8|  BlueBerries|    8|\n",
            "|   9|         Kiwi|   23|\n",
            "|  10|       Leechi|    5|\n",
            "+----+-------------+-----+\n",
            "\n",
            "+----+------+-----+\n",
            "|S.no| Fruit|Count|\n",
            "+----+------+-----+\n",
            "|   3|Banana|    3|\n",
            "+----+------+-----+\n",
            "\n"
          ]
        }
      ]
    },
    {
      "cell_type": "code",
      "source": [
        "from pyspark.sql.functions import when\n",
        "df = df.withColumn(\"IsPopular\", when(df[\"Count\"]>5, \"famous fruit for people\").otherwise(\"Not Famous\"))\n",
        "df = df.withColumn(\"Cost of one fruit\", when(df['Fruit'] == \"Apple\", \"2$\").when(df['Fruit'] == \"Mango\", \"1$\").when(df['Fruit'] == \"Banana\", \"0.9$\").when(df['Fruit'] == \"Cherry\", \"5$\").when(df['Fruit'] == \"Straw berries\", \"20$\").when(df['Fruit'] == \"Orange\", \"2$\").when(df['Fruit'] == \"Grapes\", \"5$\").when(df['Fruit'] == \"BlueBerries\", \"10$\").when(df['Fruit'] == \"Kiwi\", \"9$\").when(df['Fruit'] == \"Leechi\", \"40$\"))\n",
        "df.show()"
      ],
      "metadata": {
        "colab": {
          "base_uri": "https://localhost:8080/"
        },
        "id": "SeUVQOuetmKf",
        "outputId": "986d8d40-94e8-41af-a87e-696713446750"
      },
      "execution_count": 13,
      "outputs": [
        {
          "output_type": "stream",
          "name": "stdout",
          "text": [
            "+----+-------------+-----+--------------------+-----------------+\n",
            "|S.no|        Fruit|Count|           IsPopular|Cost of one fruit|\n",
            "+----+-------------+-----+--------------------+-----------------+\n",
            "|   1|        Apple|    5|          Not Famous|               2$|\n",
            "|   2|        Mango|    6|famous fruit for ...|               1$|\n",
            "|   3|       Banana|    3|          Not Famous|             0.9$|\n",
            "|   4|       Cherry|    7|famous fruit for ...|               5$|\n",
            "|   5|Straw berries|    5|          Not Famous|              20$|\n",
            "|   6|       Orange|    9|famous fruit for ...|               2$|\n",
            "|   7|       Grapes|    7|famous fruit for ...|               5$|\n",
            "|   8|  BlueBerries|    8|famous fruit for ...|              10$|\n",
            "|   9|         Kiwi|   23|famous fruit for ...|               9$|\n",
            "|  10|       Leechi|    5|          Not Famous|              40$|\n",
            "+----+-------------+-----+--------------------+-----------------+\n",
            "\n"
          ]
        }
      ]
    },
    {
      "cell_type": "code",
      "source": [
        "# Practise the dataframe of animals and their ages\n",
        "animals = [(\"Dog\", 5), (\"Cat\", 3), (\"Elephant\", 20), (\"Mouse\", 1)]\n",
        "animal_df = spark.createDataFrame(animals, [\"Animal\", \"Age\"])\n",
        "animal_df.show()"
      ],
      "metadata": {
        "colab": {
          "base_uri": "https://localhost:8080/"
        },
        "id": "YpIXMpabtmHF",
        "outputId": "528e96ca-a2a5-4fd5-a242-65e76cc2bd30"
      },
      "execution_count": 14,
      "outputs": [
        {
          "output_type": "stream",
          "name": "stdout",
          "text": [
            "+--------+---+\n",
            "|  Animal|Age|\n",
            "+--------+---+\n",
            "|     Dog|  5|\n",
            "|     Cat|  3|\n",
            "|Elephant| 20|\n",
            "|   Mouse|  1|\n",
            "+--------+---+\n",
            "\n"
          ]
        }
      ]
    },
    {
      "cell_type": "code",
      "source": [
        "# 1. Show only animals older than 4 years and less than 5 years is equal to 20\n",
        "# 2. Add a column \"IsPet\" with \"Yes\" for Dog and Cat, \"No\" for others\n",
        "# 3. Show the average age of all animals\n",
        "animal_df.filter(animal_df[\"Age\"] > 4).show()\n",
        "animal_df.filter(animal_df[\"Age\"] < 5).show()\n",
        "animal_df.filter(animal_df[\"Age\"] == 20).show()\n",
        "animal_df.filter(animal_df[\"Age\"] <= 5).show()\n",
        "animal_df.filter(animal_df[\"Age\"] >= 4).show()"
      ],
      "metadata": {
        "colab": {
          "base_uri": "https://localhost:8080/"
        },
        "id": "jD2YS_XFtmEy",
        "outputId": "0780ea4b-e82d-4bcc-ee1e-a6b32761e402"
      },
      "execution_count": 15,
      "outputs": [
        {
          "output_type": "stream",
          "name": "stdout",
          "text": [
            "+--------+---+\n",
            "|  Animal|Age|\n",
            "+--------+---+\n",
            "|     Dog|  5|\n",
            "|Elephant| 20|\n",
            "+--------+---+\n",
            "\n",
            "+------+---+\n",
            "|Animal|Age|\n",
            "+------+---+\n",
            "|   Cat|  3|\n",
            "| Mouse|  1|\n",
            "+------+---+\n",
            "\n",
            "+--------+---+\n",
            "|  Animal|Age|\n",
            "+--------+---+\n",
            "|Elephant| 20|\n",
            "+--------+---+\n",
            "\n",
            "+------+---+\n",
            "|Animal|Age|\n",
            "+------+---+\n",
            "|   Dog|  5|\n",
            "|   Cat|  3|\n",
            "| Mouse|  1|\n",
            "+------+---+\n",
            "\n",
            "+--------+---+\n",
            "|  Animal|Age|\n",
            "+--------+---+\n",
            "|     Dog|  5|\n",
            "|Elephant| 20|\n",
            "+--------+---+\n",
            "\n"
          ]
        }
      ]
    },
    {
      "cell_type": "code",
      "source": [
        "from pyspark.sql.functions import when\n",
        "animal_df = animal_df.withColumn(\"Is Dangerous\", when((animal_df[\"Animal\"] == \"Dog\") | (animal_df[\"Animal\"] == \"Elephant\"), \"Dangerous\").otherwise(\"Not Dangerous\"))\n",
        "animal_df.show()"
      ],
      "metadata": {
        "id": "dG03Lnl7B9v-",
        "colab": {
          "base_uri": "https://localhost:8080/"
        },
        "outputId": "35ebc62e-ec32-4611-bf2f-8a540b83f900"
      },
      "execution_count": 17,
      "outputs": [
        {
          "output_type": "stream",
          "name": "stdout",
          "text": [
            "+--------+---+-------------+\n",
            "|  Animal|Age| Is Dangerous|\n",
            "+--------+---+-------------+\n",
            "|     Dog|  5|    Dangerous|\n",
            "|     Cat|  3|Not Dangerous|\n",
            "|Elephant| 20|    Dangerous|\n",
            "|   Mouse|  1|Not Dangerous|\n",
            "+--------+---+-------------+\n",
            "\n"
          ]
        }
      ]
    },
    {
      "cell_type": "code",
      "source": [
        "spark.stop()"
      ],
      "metadata": {
        "id": "Mo4OoWau-SlW"
      },
      "execution_count": 18,
      "outputs": []
    }
  ]
}